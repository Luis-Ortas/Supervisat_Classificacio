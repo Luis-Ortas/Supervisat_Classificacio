{
 "cells": [
  {
   "cell_type": "markdown",
   "id": "821c5d24",
   "metadata": {},
   "source": [
    "# <font color='#d50283'>IT Academy - Data Science</font>\n",
    "##  S10 T01: Aprenentatge Supervisat - Classificació\n",
    "### Luis Ortas"
   ]
  },
  {
   "cell_type": "code",
   "execution_count": 1,
   "id": "221b4eb4",
   "metadata": {
    "ExecuteTime": {
     "end_time": "2022-03-02T10:15:10.971361Z",
     "start_time": "2022-03-02T10:15:08.484778Z"
    }
   },
   "outputs": [],
   "source": [
    "import numpy as np\n",
    "import pandas as pd\n",
    "import matplotlib.pyplot as plt\n",
    "import seaborn as sns\n",
    "from sklearn.model_selection import train_test_split\n",
    "import warnings\n",
    "warnings.filterwarnings('ignore')\n",
    "from sklearn.preprocessing import StandardScaler\n",
    "\n",
    "from sklearn.tree import DecisionTreeClassifier\n",
    "from sklearn.neighbors import KNeighborsClassifier\n",
    "from sklearn.model_selection import GridSearchCV\n",
    "from sklearn import svm\n",
    "from sklearn.linear_model import LogisticRegression\n",
    "import xgboost as xgb\n",
    "\n",
    "from sklearn import metrics\n",
    "from sklearn.metrics import f1_score\n",
    "from sklearn.metrics import average_precision_score\n",
    "\n",
    "from sklearn.model_selection import cross_val_score\n",
    "from sklearn.model_selection import StratifiedKFold"
   ]
  },
  {
   "cell_type": "markdown",
   "id": "0f1ac613",
   "metadata": {},
   "source": [
    "Utilizaremos el archivo: DelayedFlights.csv."
   ]
  },
  {
   "cell_type": "code",
   "execution_count": 2,
   "id": "8179e38a",
   "metadata": {
    "ExecuteTime": {
     "end_time": "2022-03-02T10:15:17.296376Z",
     "start_time": "2022-03-02T10:15:10.974362Z"
    }
   },
   "outputs": [
    {
     "data": {
      "text/html": [
       "<div>\n",
       "<style scoped>\n",
       "    .dataframe tbody tr th:only-of-type {\n",
       "        vertical-align: middle;\n",
       "    }\n",
       "\n",
       "    .dataframe tbody tr th {\n",
       "        vertical-align: top;\n",
       "    }\n",
       "\n",
       "    .dataframe thead th {\n",
       "        text-align: right;\n",
       "    }\n",
       "</style>\n",
       "<table border=\"1\" class=\"dataframe\">\n",
       "  <thead>\n",
       "    <tr style=\"text-align: right;\">\n",
       "      <th></th>\n",
       "      <th>Month</th>\n",
       "      <th>DayofMonth</th>\n",
       "      <th>DayOfWeek</th>\n",
       "      <th>DepTime</th>\n",
       "      <th>CRSDepTime</th>\n",
       "      <th>ArrTime</th>\n",
       "      <th>CRSArrTime</th>\n",
       "      <th>UniqueCarrier</th>\n",
       "      <th>FlightNum</th>\n",
       "      <th>TailNum</th>\n",
       "      <th>...</th>\n",
       "      <th>TaxiIn</th>\n",
       "      <th>TaxiOut</th>\n",
       "      <th>Cancelled</th>\n",
       "      <th>CancellationCode</th>\n",
       "      <th>Diverted</th>\n",
       "      <th>CarrierDelay</th>\n",
       "      <th>WeatherDelay</th>\n",
       "      <th>NASDelay</th>\n",
       "      <th>SecurityDelay</th>\n",
       "      <th>LateAircraftDelay</th>\n",
       "    </tr>\n",
       "  </thead>\n",
       "  <tbody>\n",
       "    <tr>\n",
       "      <th>0</th>\n",
       "      <td>1</td>\n",
       "      <td>3</td>\n",
       "      <td>4</td>\n",
       "      <td>2003.0</td>\n",
       "      <td>1955</td>\n",
       "      <td>2211.0</td>\n",
       "      <td>2225</td>\n",
       "      <td>WN</td>\n",
       "      <td>335</td>\n",
       "      <td>N712SW</td>\n",
       "      <td>...</td>\n",
       "      <td>4.0</td>\n",
       "      <td>8.0</td>\n",
       "      <td>0</td>\n",
       "      <td>N</td>\n",
       "      <td>0</td>\n",
       "      <td>NaN</td>\n",
       "      <td>NaN</td>\n",
       "      <td>NaN</td>\n",
       "      <td>NaN</td>\n",
       "      <td>NaN</td>\n",
       "    </tr>\n",
       "    <tr>\n",
       "      <th>1</th>\n",
       "      <td>1</td>\n",
       "      <td>3</td>\n",
       "      <td>4</td>\n",
       "      <td>754.0</td>\n",
       "      <td>735</td>\n",
       "      <td>1002.0</td>\n",
       "      <td>1000</td>\n",
       "      <td>WN</td>\n",
       "      <td>3231</td>\n",
       "      <td>N772SW</td>\n",
       "      <td>...</td>\n",
       "      <td>5.0</td>\n",
       "      <td>10.0</td>\n",
       "      <td>0</td>\n",
       "      <td>N</td>\n",
       "      <td>0</td>\n",
       "      <td>NaN</td>\n",
       "      <td>NaN</td>\n",
       "      <td>NaN</td>\n",
       "      <td>NaN</td>\n",
       "      <td>NaN</td>\n",
       "    </tr>\n",
       "    <tr>\n",
       "      <th>2</th>\n",
       "      <td>1</td>\n",
       "      <td>3</td>\n",
       "      <td>4</td>\n",
       "      <td>628.0</td>\n",
       "      <td>620</td>\n",
       "      <td>804.0</td>\n",
       "      <td>750</td>\n",
       "      <td>WN</td>\n",
       "      <td>448</td>\n",
       "      <td>N428WN</td>\n",
       "      <td>...</td>\n",
       "      <td>3.0</td>\n",
       "      <td>17.0</td>\n",
       "      <td>0</td>\n",
       "      <td>N</td>\n",
       "      <td>0</td>\n",
       "      <td>NaN</td>\n",
       "      <td>NaN</td>\n",
       "      <td>NaN</td>\n",
       "      <td>NaN</td>\n",
       "      <td>NaN</td>\n",
       "    </tr>\n",
       "    <tr>\n",
       "      <th>3</th>\n",
       "      <td>1</td>\n",
       "      <td>3</td>\n",
       "      <td>4</td>\n",
       "      <td>1829.0</td>\n",
       "      <td>1755</td>\n",
       "      <td>1959.0</td>\n",
       "      <td>1925</td>\n",
       "      <td>WN</td>\n",
       "      <td>3920</td>\n",
       "      <td>N464WN</td>\n",
       "      <td>...</td>\n",
       "      <td>3.0</td>\n",
       "      <td>10.0</td>\n",
       "      <td>0</td>\n",
       "      <td>N</td>\n",
       "      <td>0</td>\n",
       "      <td>2.0</td>\n",
       "      <td>0.0</td>\n",
       "      <td>0.0</td>\n",
       "      <td>0.0</td>\n",
       "      <td>32.0</td>\n",
       "    </tr>\n",
       "    <tr>\n",
       "      <th>4</th>\n",
       "      <td>1</td>\n",
       "      <td>3</td>\n",
       "      <td>4</td>\n",
       "      <td>1940.0</td>\n",
       "      <td>1915</td>\n",
       "      <td>2121.0</td>\n",
       "      <td>2110</td>\n",
       "      <td>WN</td>\n",
       "      <td>378</td>\n",
       "      <td>N726SW</td>\n",
       "      <td>...</td>\n",
       "      <td>4.0</td>\n",
       "      <td>10.0</td>\n",
       "      <td>0</td>\n",
       "      <td>N</td>\n",
       "      <td>0</td>\n",
       "      <td>NaN</td>\n",
       "      <td>NaN</td>\n",
       "      <td>NaN</td>\n",
       "      <td>NaN</td>\n",
       "      <td>NaN</td>\n",
       "    </tr>\n",
       "  </tbody>\n",
       "</table>\n",
       "<p>5 rows × 28 columns</p>\n",
       "</div>"
      ],
      "text/plain": [
       "   Month  DayofMonth  DayOfWeek  DepTime  CRSDepTime  ArrTime  CRSArrTime  \\\n",
       "0      1           3          4   2003.0        1955   2211.0        2225   \n",
       "1      1           3          4    754.0         735   1002.0        1000   \n",
       "2      1           3          4    628.0         620    804.0         750   \n",
       "3      1           3          4   1829.0        1755   1959.0        1925   \n",
       "4      1           3          4   1940.0        1915   2121.0        2110   \n",
       "\n",
       "  UniqueCarrier  FlightNum TailNum  ...  TaxiIn  TaxiOut  Cancelled  \\\n",
       "0            WN        335  N712SW  ...     4.0      8.0          0   \n",
       "1            WN       3231  N772SW  ...     5.0     10.0          0   \n",
       "2            WN        448  N428WN  ...     3.0     17.0          0   \n",
       "3            WN       3920  N464WN  ...     3.0     10.0          0   \n",
       "4            WN        378  N726SW  ...     4.0     10.0          0   \n",
       "\n",
       "   CancellationCode  Diverted CarrierDelay WeatherDelay  NASDelay  \\\n",
       "0                 N         0          NaN          NaN       NaN   \n",
       "1                 N         0          NaN          NaN       NaN   \n",
       "2                 N         0          NaN          NaN       NaN   \n",
       "3                 N         0          2.0          0.0       0.0   \n",
       "4                 N         0          NaN          NaN       NaN   \n",
       "\n",
       "   SecurityDelay  LateAircraftDelay  \n",
       "0            NaN                NaN  \n",
       "1            NaN                NaN  \n",
       "2            NaN                NaN  \n",
       "3            0.0               32.0  \n",
       "4            NaN                NaN  \n",
       "\n",
       "[5 rows x 28 columns]"
      ]
     },
     "execution_count": 2,
     "metadata": {},
     "output_type": "execute_result"
    }
   ],
   "source": [
    "df = pd.read_csv(\"DelayedFlights.csv\")\n",
    "\n",
    "#df_ok=df.sample(100000)\n",
    "df.drop(['Unnamed: 0','Year'],axis=1,inplace=True)\n",
    "\n",
    "df.head(5)"
   ]
  },
  {
   "cell_type": "markdown",
   "id": "cceb32bc",
   "metadata": {},
   "source": [
    "Para que sea más rapido. **Utilizaremos un solo destino. JFK**\n",
    "Procesaremos el archivo."
   ]
  },
  {
   "cell_type": "code",
   "execution_count": 3,
   "id": "8d04819d",
   "metadata": {
    "ExecuteTime": {
     "end_time": "2022-03-02T10:15:17.469722Z",
     "start_time": "2022-03-02T10:15:17.299378Z"
    }
   },
   "outputs": [],
   "source": [
    "# Solo contemplamo JFK. Eliminamos la columna \"Dest\"\n",
    "df_NY=df.loc[df['Dest'] == 'JFK'].copy()\n",
    "df_NY.drop(['Dest'],axis=1,inplace=True)"
   ]
  },
  {
   "cell_type": "code",
   "execution_count": 4,
   "id": "ee3049e3",
   "metadata": {
    "ExecuteTime": {
     "end_time": "2022-03-02T10:15:17.485723Z",
     "start_time": "2022-03-02T10:15:17.471723Z"
    }
   },
   "outputs": [
    {
     "data": {
      "text/plain": [
       "Index(['Month', 'DayofMonth', 'DayOfWeek', 'DepTime', 'CRSDepTime', 'ArrTime',\n",
       "       'CRSArrTime', 'UniqueCarrier', 'FlightNum', 'TailNum',\n",
       "       'ActualElapsedTime', 'CRSElapsedTime', 'AirTime', 'ArrDelay',\n",
       "       'DepDelay', 'Origin', 'Distance', 'TaxiIn', 'TaxiOut', 'Cancelled',\n",
       "       'CancellationCode', 'Diverted', 'CarrierDelay', 'WeatherDelay',\n",
       "       'NASDelay', 'SecurityDelay', 'LateAircraftDelay'],\n",
       "      dtype='object')"
      ]
     },
     "execution_count": 4,
     "metadata": {},
     "output_type": "execute_result"
    }
   ],
   "source": [
    "df_NY.columns"
   ]
  },
  {
   "cell_type": "code",
   "execution_count": 5,
   "id": "27b951d3",
   "metadata": {
    "ExecuteTime": {
     "end_time": "2022-03-02T10:15:17.517726Z",
     "start_time": "2022-03-02T10:15:17.487725Z"
    }
   },
   "outputs": [
    {
     "name": "stdout",
     "output_type": "stream",
     "text": [
      "<class 'pandas.core.frame.DataFrame'>\n",
      "Int64Index: 35506 entries, 41032 to 1936647\n",
      "Data columns (total 27 columns):\n",
      " #   Column             Non-Null Count  Dtype  \n",
      "---  ------             --------------  -----  \n",
      " 0   Month              35506 non-null  int64  \n",
      " 1   DayofMonth         35506 non-null  int64  \n",
      " 2   DayOfWeek          35506 non-null  int64  \n",
      " 3   DepTime            35506 non-null  float64\n",
      " 4   CRSDepTime         35506 non-null  int64  \n",
      " 5   ArrTime            35263 non-null  float64\n",
      " 6   CRSArrTime         35506 non-null  int64  \n",
      " 7   UniqueCarrier      35506 non-null  object \n",
      " 8   FlightNum          35506 non-null  int64  \n",
      " 9   TailNum            35505 non-null  object \n",
      " 10  ActualElapsedTime  35234 non-null  float64\n",
      " 11  CRSElapsedTime     35506 non-null  float64\n",
      " 12  AirTime            35234 non-null  float64\n",
      " 13  ArrDelay           35234 non-null  float64\n",
      " 14  DepDelay           35506 non-null  float64\n",
      " 15  Origin             35506 non-null  object \n",
      " 16  Distance           35506 non-null  int64  \n",
      " 17  TaxiIn             35263 non-null  float64\n",
      " 18  TaxiOut            35493 non-null  float64\n",
      " 19  Cancelled          35506 non-null  int64  \n",
      " 20  CancellationCode   35506 non-null  object \n",
      " 21  Diverted           35506 non-null  int64  \n",
      " 22  CarrierDelay       25330 non-null  float64\n",
      " 23  WeatherDelay       25330 non-null  float64\n",
      " 24  NASDelay           25330 non-null  float64\n",
      " 25  SecurityDelay      25330 non-null  float64\n",
      " 26  LateAircraftDelay  25330 non-null  float64\n",
      "dtypes: float64(14), int64(9), object(4)\n",
      "memory usage: 7.6+ MB\n"
     ]
    }
   ],
   "source": [
    "df_NY.info()"
   ]
  },
  {
   "cell_type": "code",
   "execution_count": 6,
   "id": "0ece7fa1",
   "metadata": {
    "ExecuteTime": {
     "end_time": "2022-03-02T10:15:17.629733Z",
     "start_time": "2022-03-02T10:15:17.519727Z"
    }
   },
   "outputs": [
    {
     "data": {
      "text/html": [
       "<div>\n",
       "<style scoped>\n",
       "    .dataframe tbody tr th:only-of-type {\n",
       "        vertical-align: middle;\n",
       "    }\n",
       "\n",
       "    .dataframe tbody tr th {\n",
       "        vertical-align: top;\n",
       "    }\n",
       "\n",
       "    .dataframe thead th {\n",
       "        text-align: right;\n",
       "    }\n",
       "</style>\n",
       "<table border=\"1\" class=\"dataframe\">\n",
       "  <thead>\n",
       "    <tr style=\"text-align: right;\">\n",
       "      <th></th>\n",
       "      <th>count</th>\n",
       "      <th>mean</th>\n",
       "      <th>std</th>\n",
       "      <th>min</th>\n",
       "      <th>25%</th>\n",
       "      <th>50%</th>\n",
       "      <th>75%</th>\n",
       "      <th>max</th>\n",
       "    </tr>\n",
       "  </thead>\n",
       "  <tbody>\n",
       "    <tr>\n",
       "      <th>Month</th>\n",
       "      <td>35506.0</td>\n",
       "      <td>6.357489</td>\n",
       "      <td>3.312786</td>\n",
       "      <td>1.0</td>\n",
       "      <td>3.0</td>\n",
       "      <td>6.0</td>\n",
       "      <td>9.0</td>\n",
       "      <td>12.0</td>\n",
       "    </tr>\n",
       "    <tr>\n",
       "      <th>DayofMonth</th>\n",
       "      <td>35506.0</td>\n",
       "      <td>15.857799</td>\n",
       "      <td>8.792155</td>\n",
       "      <td>1.0</td>\n",
       "      <td>8.0</td>\n",
       "      <td>16.0</td>\n",
       "      <td>23.0</td>\n",
       "      <td>31.0</td>\n",
       "    </tr>\n",
       "    <tr>\n",
       "      <th>DayOfWeek</th>\n",
       "      <td>35506.0</td>\n",
       "      <td>4.040641</td>\n",
       "      <td>2.027000</td>\n",
       "      <td>1.0</td>\n",
       "      <td>2.0</td>\n",
       "      <td>4.0</td>\n",
       "      <td>6.0</td>\n",
       "      <td>7.0</td>\n",
       "    </tr>\n",
       "    <tr>\n",
       "      <th>DepTime</th>\n",
       "      <td>35506.0</td>\n",
       "      <td>1476.532502</td>\n",
       "      <td>494.858187</td>\n",
       "      <td>1.0</td>\n",
       "      <td>1159.0</td>\n",
       "      <td>1509.0</td>\n",
       "      <td>1838.0</td>\n",
       "      <td>2400.0</td>\n",
       "    </tr>\n",
       "    <tr>\n",
       "      <th>CRSDepTime</th>\n",
       "      <td>35506.0</td>\n",
       "      <td>1446.205571</td>\n",
       "      <td>444.700160</td>\n",
       "      <td>1.0</td>\n",
       "      <td>1135.0</td>\n",
       "      <td>1437.0</td>\n",
       "      <td>1750.0</td>\n",
       "      <td>2359.0</td>\n",
       "    </tr>\n",
       "    <tr>\n",
       "      <th>ArrTime</th>\n",
       "      <td>35263.0</td>\n",
       "      <td>1571.033321</td>\n",
       "      <td>640.768659</td>\n",
       "      <td>1.0</td>\n",
       "      <td>1246.0</td>\n",
       "      <td>1735.0</td>\n",
       "      <td>2054.0</td>\n",
       "      <td>2400.0</td>\n",
       "    </tr>\n",
       "    <tr>\n",
       "      <th>CRSArrTime</th>\n",
       "      <td>35506.0</td>\n",
       "      <td>1610.724300</td>\n",
       "      <td>539.423692</td>\n",
       "      <td>1.0</td>\n",
       "      <td>1354.0</td>\n",
       "      <td>1729.0</td>\n",
       "      <td>2015.0</td>\n",
       "      <td>2359.0</td>\n",
       "    </tr>\n",
       "    <tr>\n",
       "      <th>FlightNum</th>\n",
       "      <td>35506.0</td>\n",
       "      <td>1599.498169</td>\n",
       "      <td>2148.600795</td>\n",
       "      <td>1.0</td>\n",
       "      <td>96.0</td>\n",
       "      <td>624.0</td>\n",
       "      <td>1742.0</td>\n",
       "      <td>7339.0</td>\n",
       "    </tr>\n",
       "    <tr>\n",
       "      <th>ActualElapsedTime</th>\n",
       "      <td>35234.0</td>\n",
       "      <td>187.218738</td>\n",
       "      <td>90.861913</td>\n",
       "      <td>27.0</td>\n",
       "      <td>110.0</td>\n",
       "      <td>164.0</td>\n",
       "      <td>274.0</td>\n",
       "      <td>626.0</td>\n",
       "    </tr>\n",
       "    <tr>\n",
       "      <th>CRSElapsedTime</th>\n",
       "      <td>35506.0</td>\n",
       "      <td>186.054977</td>\n",
       "      <td>91.887637</td>\n",
       "      <td>21.0</td>\n",
       "      <td>100.0</td>\n",
       "      <td>165.0</td>\n",
       "      <td>282.0</td>\n",
       "      <td>536.0</td>\n",
       "    </tr>\n",
       "    <tr>\n",
       "      <th>AirTime</th>\n",
       "      <td>35234.0</td>\n",
       "      <td>153.381620</td>\n",
       "      <td>90.013962</td>\n",
       "      <td>2.0</td>\n",
       "      <td>72.0</td>\n",
       "      <td>132.0</td>\n",
       "      <td>241.0</td>\n",
       "      <td>595.0</td>\n",
       "    </tr>\n",
       "    <tr>\n",
       "      <th>ArrDelay</th>\n",
       "      <td>35234.0</td>\n",
       "      <td>57.082364</td>\n",
       "      <td>71.633464</td>\n",
       "      <td>-45.0</td>\n",
       "      <td>12.0</td>\n",
       "      <td>36.0</td>\n",
       "      <td>78.0</td>\n",
       "      <td>1098.0</td>\n",
       "    </tr>\n",
       "    <tr>\n",
       "      <th>DepDelay</th>\n",
       "      <td>35506.0</td>\n",
       "      <td>55.455078</td>\n",
       "      <td>66.300659</td>\n",
       "      <td>6.0</td>\n",
       "      <td>15.0</td>\n",
       "      <td>32.0</td>\n",
       "      <td>70.0</td>\n",
       "      <td>1103.0</td>\n",
       "    </tr>\n",
       "    <tr>\n",
       "      <th>Distance</th>\n",
       "      <td>35506.0</td>\n",
       "      <td>1170.386836</td>\n",
       "      <td>847.191919</td>\n",
       "      <td>30.0</td>\n",
       "      <td>425.0</td>\n",
       "      <td>1028.0</td>\n",
       "      <td>2153.0</td>\n",
       "      <td>2586.0</td>\n",
       "    </tr>\n",
       "    <tr>\n",
       "      <th>TaxiIn</th>\n",
       "      <td>35263.0</td>\n",
       "      <td>11.615631</td>\n",
       "      <td>9.683673</td>\n",
       "      <td>0.0</td>\n",
       "      <td>6.0</td>\n",
       "      <td>9.0</td>\n",
       "      <td>14.0</td>\n",
       "      <td>200.0</td>\n",
       "    </tr>\n",
       "    <tr>\n",
       "      <th>TaxiOut</th>\n",
       "      <td>35493.0</td>\n",
       "      <td>22.239540</td>\n",
       "      <td>15.744920</td>\n",
       "      <td>0.0</td>\n",
       "      <td>13.0</td>\n",
       "      <td>18.0</td>\n",
       "      <td>25.0</td>\n",
       "      <td>301.0</td>\n",
       "    </tr>\n",
       "    <tr>\n",
       "      <th>Cancelled</th>\n",
       "      <td>35506.0</td>\n",
       "      <td>0.000394</td>\n",
       "      <td>0.019853</td>\n",
       "      <td>0.0</td>\n",
       "      <td>0.0</td>\n",
       "      <td>0.0</td>\n",
       "      <td>0.0</td>\n",
       "      <td>1.0</td>\n",
       "    </tr>\n",
       "    <tr>\n",
       "      <th>Diverted</th>\n",
       "      <td>35506.0</td>\n",
       "      <td>0.007266</td>\n",
       "      <td>0.084934</td>\n",
       "      <td>0.0</td>\n",
       "      <td>0.0</td>\n",
       "      <td>0.0</td>\n",
       "      <td>0.0</td>\n",
       "      <td>1.0</td>\n",
       "    </tr>\n",
       "    <tr>\n",
       "      <th>CarrierDelay</th>\n",
       "      <td>25330.0</td>\n",
       "      <td>17.749428</td>\n",
       "      <td>47.592661</td>\n",
       "      <td>0.0</td>\n",
       "      <td>0.0</td>\n",
       "      <td>0.0</td>\n",
       "      <td>15.0</td>\n",
       "      <td>1069.0</td>\n",
       "    </tr>\n",
       "    <tr>\n",
       "      <th>WeatherDelay</th>\n",
       "      <td>25330.0</td>\n",
       "      <td>4.067233</td>\n",
       "      <td>21.148153</td>\n",
       "      <td>0.0</td>\n",
       "      <td>0.0</td>\n",
       "      <td>0.0</td>\n",
       "      <td>0.0</td>\n",
       "      <td>510.0</td>\n",
       "    </tr>\n",
       "    <tr>\n",
       "      <th>NASDelay</th>\n",
       "      <td>25330.0</td>\n",
       "      <td>35.398263</td>\n",
       "      <td>55.102002</td>\n",
       "      <td>0.0</td>\n",
       "      <td>0.0</td>\n",
       "      <td>14.0</td>\n",
       "      <td>47.0</td>\n",
       "      <td>580.0</td>\n",
       "    </tr>\n",
       "    <tr>\n",
       "      <th>SecurityDelay</th>\n",
       "      <td>25330.0</td>\n",
       "      <td>0.051638</td>\n",
       "      <td>1.286575</td>\n",
       "      <td>0.0</td>\n",
       "      <td>0.0</td>\n",
       "      <td>0.0</td>\n",
       "      <td>0.0</td>\n",
       "      <td>80.0</td>\n",
       "    </tr>\n",
       "    <tr>\n",
       "      <th>LateAircraftDelay</th>\n",
       "      <td>25330.0</td>\n",
       "      <td>21.645756</td>\n",
       "      <td>41.581318</td>\n",
       "      <td>0.0</td>\n",
       "      <td>0.0</td>\n",
       "      <td>0.0</td>\n",
       "      <td>27.0</td>\n",
       "      <td>593.0</td>\n",
       "    </tr>\n",
       "  </tbody>\n",
       "</table>\n",
       "</div>"
      ],
      "text/plain": [
       "                     count         mean          std   min     25%     50%  \\\n",
       "Month              35506.0     6.357489     3.312786   1.0     3.0     6.0   \n",
       "DayofMonth         35506.0    15.857799     8.792155   1.0     8.0    16.0   \n",
       "DayOfWeek          35506.0     4.040641     2.027000   1.0     2.0     4.0   \n",
       "DepTime            35506.0  1476.532502   494.858187   1.0  1159.0  1509.0   \n",
       "CRSDepTime         35506.0  1446.205571   444.700160   1.0  1135.0  1437.0   \n",
       "ArrTime            35263.0  1571.033321   640.768659   1.0  1246.0  1735.0   \n",
       "CRSArrTime         35506.0  1610.724300   539.423692   1.0  1354.0  1729.0   \n",
       "FlightNum          35506.0  1599.498169  2148.600795   1.0    96.0   624.0   \n",
       "ActualElapsedTime  35234.0   187.218738    90.861913  27.0   110.0   164.0   \n",
       "CRSElapsedTime     35506.0   186.054977    91.887637  21.0   100.0   165.0   \n",
       "AirTime            35234.0   153.381620    90.013962   2.0    72.0   132.0   \n",
       "ArrDelay           35234.0    57.082364    71.633464 -45.0    12.0    36.0   \n",
       "DepDelay           35506.0    55.455078    66.300659   6.0    15.0    32.0   \n",
       "Distance           35506.0  1170.386836   847.191919  30.0   425.0  1028.0   \n",
       "TaxiIn             35263.0    11.615631     9.683673   0.0     6.0     9.0   \n",
       "TaxiOut            35493.0    22.239540    15.744920   0.0    13.0    18.0   \n",
       "Cancelled          35506.0     0.000394     0.019853   0.0     0.0     0.0   \n",
       "Diverted           35506.0     0.007266     0.084934   0.0     0.0     0.0   \n",
       "CarrierDelay       25330.0    17.749428    47.592661   0.0     0.0     0.0   \n",
       "WeatherDelay       25330.0     4.067233    21.148153   0.0     0.0     0.0   \n",
       "NASDelay           25330.0    35.398263    55.102002   0.0     0.0    14.0   \n",
       "SecurityDelay      25330.0     0.051638     1.286575   0.0     0.0     0.0   \n",
       "LateAircraftDelay  25330.0    21.645756    41.581318   0.0     0.0     0.0   \n",
       "\n",
       "                      75%     max  \n",
       "Month                 9.0    12.0  \n",
       "DayofMonth           23.0    31.0  \n",
       "DayOfWeek             6.0     7.0  \n",
       "DepTime            1838.0  2400.0  \n",
       "CRSDepTime         1750.0  2359.0  \n",
       "ArrTime            2054.0  2400.0  \n",
       "CRSArrTime         2015.0  2359.0  \n",
       "FlightNum          1742.0  7339.0  \n",
       "ActualElapsedTime   274.0   626.0  \n",
       "CRSElapsedTime      282.0   536.0  \n",
       "AirTime             241.0   595.0  \n",
       "ArrDelay             78.0  1098.0  \n",
       "DepDelay             70.0  1103.0  \n",
       "Distance           2153.0  2586.0  \n",
       "TaxiIn               14.0   200.0  \n",
       "TaxiOut              25.0   301.0  \n",
       "Cancelled             0.0     1.0  \n",
       "Diverted              0.0     1.0  \n",
       "CarrierDelay         15.0  1069.0  \n",
       "WeatherDelay          0.0   510.0  \n",
       "NASDelay             47.0   580.0  \n",
       "SecurityDelay         0.0    80.0  \n",
       "LateAircraftDelay    27.0   593.0  "
      ]
     },
     "execution_count": 6,
     "metadata": {},
     "output_type": "execute_result"
    }
   ],
   "source": [
    "df_NY.describe().T"
   ]
  },
  {
   "cell_type": "code",
   "execution_count": 7,
   "id": "a40f9b0d",
   "metadata": {
    "ExecuteTime": {
     "end_time": "2022-03-02T10:15:18.249782Z",
     "start_time": "2022-03-02T10:15:17.631737Z"
    }
   },
   "outputs": [],
   "source": [
    "df_NY[['Cancelled','Diverted']] = df_NY[['Cancelled','Diverted']].astype('bool')\n",
    "#Eliminamos las filas donde Cancelled and diverted son verdad ya que ArrDelay es Nan.\n",
    "# Eliminamos las columnas Canceled y Diverted.\n",
    "df_NY.drop(df_NY[df.Cancelled  | df_NY.Diverted].index, inplace=True)\n",
    "df_NY.drop(columns=['Cancelled', 'CancellationCode', 'Diverted'], inplace=True)"
   ]
  },
  {
   "cell_type": "code",
   "execution_count": 8,
   "id": "dc4bd6b5",
   "metadata": {
    "ExecuteTime": {
     "end_time": "2022-03-02T10:15:18.279814Z",
     "start_time": "2022-03-02T10:15:18.252783Z"
    }
   },
   "outputs": [
    {
     "data": {
      "text/plain": [
       "Month                   0\n",
       "DayofMonth              0\n",
       "DayOfWeek               0\n",
       "DepTime                 0\n",
       "CRSDepTime              0\n",
       "ArrTime                 0\n",
       "CRSArrTime              0\n",
       "UniqueCarrier           0\n",
       "FlightNum               0\n",
       "TailNum                 1\n",
       "ActualElapsedTime       0\n",
       "CRSElapsedTime          0\n",
       "AirTime                 0\n",
       "ArrDelay                0\n",
       "DepDelay                0\n",
       "Origin                  0\n",
       "Distance                0\n",
       "TaxiIn                  0\n",
       "TaxiOut                 0\n",
       "CarrierDelay         9904\n",
       "WeatherDelay         9904\n",
       "NASDelay             9904\n",
       "SecurityDelay        9904\n",
       "LateAircraftDelay    9904\n",
       "dtype: int64"
      ]
     },
     "execution_count": 8,
     "metadata": {},
     "output_type": "execute_result"
    }
   ],
   "source": [
    "df_NY.isna().sum()"
   ]
  },
  {
   "cell_type": "code",
   "execution_count": 9,
   "id": "ff216df8",
   "metadata": {
    "ExecuteTime": {
     "end_time": "2022-03-02T10:15:18.295817Z",
     "start_time": "2022-03-02T10:15:18.282815Z"
    }
   },
   "outputs": [],
   "source": [
    "#No utlilizaremos 'TailNum'\n",
    "df_NY.drop(['TailNum'],axis=1,inplace=True)"
   ]
  },
  {
   "cell_type": "code",
   "execution_count": 10,
   "id": "e4fe4e01",
   "metadata": {
    "ExecuteTime": {
     "end_time": "2022-03-02T10:15:18.327819Z",
     "start_time": "2022-03-02T10:15:18.297816Z"
    }
   },
   "outputs": [
    {
     "name": "stdout",
     "output_type": "stream",
     "text": [
      "<class 'pandas.core.frame.DataFrame'>\n",
      "Int64Index: 35234 entries, 41032 to 1936647\n",
      "Data columns (total 23 columns):\n",
      " #   Column             Non-Null Count  Dtype  \n",
      "---  ------             --------------  -----  \n",
      " 0   Month              35234 non-null  int64  \n",
      " 1   DayofMonth         35234 non-null  int64  \n",
      " 2   DayOfWeek          35234 non-null  int64  \n",
      " 3   DepTime            35234 non-null  float64\n",
      " 4   CRSDepTime         35234 non-null  int64  \n",
      " 5   ArrTime            35234 non-null  float64\n",
      " 6   CRSArrTime         35234 non-null  int64  \n",
      " 7   UniqueCarrier      35234 non-null  object \n",
      " 8   FlightNum          35234 non-null  int64  \n",
      " 9   ActualElapsedTime  35234 non-null  float64\n",
      " 10  CRSElapsedTime     35234 non-null  float64\n",
      " 11  AirTime            35234 non-null  float64\n",
      " 12  ArrDelay           35234 non-null  float64\n",
      " 13  DepDelay           35234 non-null  float64\n",
      " 14  Origin             35234 non-null  object \n",
      " 15  Distance           35234 non-null  int64  \n",
      " 16  TaxiIn             35234 non-null  float64\n",
      " 17  TaxiOut            35234 non-null  float64\n",
      " 18  CarrierDelay       25330 non-null  float64\n",
      " 19  WeatherDelay       25330 non-null  float64\n",
      " 20  NASDelay           25330 non-null  float64\n",
      " 21  SecurityDelay      25330 non-null  float64\n",
      " 22  LateAircraftDelay  25330 non-null  float64\n",
      "dtypes: float64(14), int64(7), object(2)\n",
      "memory usage: 6.5+ MB\n"
     ]
    }
   ],
   "source": [
    "df_NY.info()"
   ]
  },
  {
   "cell_type": "code",
   "execution_count": 11,
   "id": "c0749ad3",
   "metadata": {
    "ExecuteTime": {
     "end_time": "2022-03-02T10:15:18.343818Z",
     "start_time": "2022-03-02T10:15:18.330819Z"
    }
   },
   "outputs": [
    {
     "data": {
      "text/plain": [
       "Index(['Month', 'DayofMonth', 'DayOfWeek', 'DepTime', 'CRSDepTime', 'ArrTime',\n",
       "       'CRSArrTime', 'UniqueCarrier', 'FlightNum', 'ActualElapsedTime',\n",
       "       'CRSElapsedTime', 'AirTime', 'ArrDelay', 'DepDelay', 'Origin',\n",
       "       'Distance', 'TaxiIn', 'TaxiOut', 'CarrierDelay', 'WeatherDelay',\n",
       "       'NASDelay', 'SecurityDelay', 'LateAircraftDelay'],\n",
       "      dtype='object')"
      ]
     },
     "execution_count": 11,
     "metadata": {},
     "output_type": "execute_result"
    }
   ],
   "source": [
    "df_NY.columns"
   ]
  },
  {
   "cell_type": "code",
   "execution_count": 12,
   "id": "3296c323",
   "metadata": {
    "ExecuteTime": {
     "end_time": "2022-03-02T10:15:18.359820Z",
     "start_time": "2022-03-02T10:15:18.346821Z"
    }
   },
   "outputs": [],
   "source": [
    "# columnas categoricas y columnas numericas\n",
    "\n",
    "num=['Month', 'DayofMonth', 'DayOfWeek', 'DepTime', 'CRSDepTime', 'ArrTime',\n",
    "       'CRSArrTime', 'ActualElapsedTime',\n",
    "       'CRSElapsedTime', 'AirTime', 'ArrDelay', 'DepDelay', \n",
    "       'Distance', 'TaxiIn', 'TaxiOut', 'CarrierDelay', 'WeatherDelay',\n",
    "       'NASDelay', 'SecurityDelay', 'LateAircraftDelay']\n",
    "cat=['Origin','UniqueCarrier']"
   ]
  },
  {
   "cell_type": "code",
   "execution_count": 13,
   "id": "6573d525",
   "metadata": {
    "ExecuteTime": {
     "end_time": "2022-03-02T10:15:18.391823Z",
     "start_time": "2022-03-02T10:15:18.361821Z"
    }
   },
   "outputs": [
    {
     "data": {
      "text/plain": [
       "Month                0\n",
       "DayofMonth           0\n",
       "DayOfWeek            0\n",
       "DepTime              0\n",
       "CRSDepTime           0\n",
       "ArrTime              0\n",
       "CRSArrTime           0\n",
       "UniqueCarrier        0\n",
       "FlightNum            0\n",
       "ActualElapsedTime    0\n",
       "CRSElapsedTime       0\n",
       "AirTime              0\n",
       "ArrDelay             0\n",
       "DepDelay             0\n",
       "Origin               0\n",
       "Distance             0\n",
       "TaxiIn               0\n",
       "TaxiOut              0\n",
       "CarrierDelay         0\n",
       "WeatherDelay         0\n",
       "NASDelay             0\n",
       "SecurityDelay        0\n",
       "LateAircraftDelay    0\n",
       "dtype: int64"
      ]
     },
     "execution_count": 13,
     "metadata": {},
     "output_type": "execute_result"
    }
   ],
   "source": [
    "# Eliminamos nulos\n",
    "\n",
    "for i in num:\n",
    "    df_NY[i].fillna(df_NY[i].median(), inplace = True)\n",
    "    \n",
    "df_NY.isna().sum()"
   ]
  },
  {
   "cell_type": "markdown",
   "id": "dc5c0381",
   "metadata": {},
   "source": [
    "Definimos 'LAbel', la categoria de retraso"
   ]
  },
  {
   "cell_type": "code",
   "execution_count": 14,
   "id": "0e44bc2b",
   "metadata": {
    "ExecuteTime": {
     "end_time": "2022-03-02T10:15:18.422825Z",
     "start_time": "2022-03-02T10:15:18.394824Z"
    }
   },
   "outputs": [],
   "source": [
    "df_NY['Label'] = np.where(df_NY['ArrDelay'] > 0, 1, 0)"
   ]
  },
  {
   "cell_type": "code",
   "execution_count": 15,
   "id": "1f9cec1b",
   "metadata": {
    "ExecuteTime": {
     "end_time": "2022-03-02T10:15:18.438827Z",
     "start_time": "2022-03-02T10:15:18.425827Z"
    }
   },
   "outputs": [
    {
     "data": {
      "text/plain": [
       "1    31170\n",
       "0     4064\n",
       "Name: Label, dtype: int64"
      ]
     },
     "execution_count": 15,
     "metadata": {},
     "output_type": "execute_result"
    }
   ],
   "source": [
    "df_NY.Label.value_counts()"
   ]
  },
  {
   "cell_type": "markdown",
   "id": "187fd15d",
   "metadata": {},
   "source": [
    "#### O retrasado tiene muchos menos elementos que 1."
   ]
  },
  {
   "cell_type": "code",
   "execution_count": 16,
   "id": "7877f074",
   "metadata": {
    "ExecuteTime": {
     "end_time": "2022-03-02T10:15:18.454827Z",
     "start_time": "2022-03-02T10:15:18.440827Z"
    }
   },
   "outputs": [],
   "source": [
    "num=['Month', 'DayofMonth', 'DayOfWeek', 'DepTime', 'CRSDepTime', 'ArrTime',\n",
    "       'CRSArrTime', 'ActualElapsedTime',\n",
    "       'CRSElapsedTime', 'AirTime', 'ArrDelay', 'DepDelay', \n",
    "       'Distance', 'TaxiIn', 'TaxiOut', 'CarrierDelay', 'WeatherDelay',\n",
    "       'NASDelay', 'SecurityDelay', 'LateAircraftDelay','Label']"
   ]
  },
  {
   "cell_type": "code",
   "execution_count": 17,
   "id": "076ea302",
   "metadata": {
    "ExecuteTime": {
     "end_time": "2022-03-02T10:15:18.470829Z",
     "start_time": "2022-03-02T10:15:18.456829Z"
    }
   },
   "outputs": [],
   "source": [
    "df_vuelos=df_NY[num].copy()\n",
    "df_vuelos.drop(['Label'],axis=1,inplace=True)"
   ]
  },
  {
   "cell_type": "code",
   "execution_count": 18,
   "id": "4e4f9bec",
   "metadata": {
    "ExecuteTime": {
     "end_time": "2022-03-02T10:15:18.486831Z",
     "start_time": "2022-03-02T10:15:18.472831Z"
    }
   },
   "outputs": [
    {
     "data": {
      "text/plain": [
       "Index(['Month', 'DayofMonth', 'DayOfWeek', 'DepTime', 'CRSDepTime', 'ArrTime',\n",
       "       'CRSArrTime', 'ActualElapsedTime', 'CRSElapsedTime', 'AirTime',\n",
       "       'ArrDelay', 'DepDelay', 'Distance', 'TaxiIn', 'TaxiOut', 'CarrierDelay',\n",
       "       'WeatherDelay', 'NASDelay', 'SecurityDelay', 'LateAircraftDelay'],\n",
       "      dtype='object')"
      ]
     },
     "execution_count": 18,
     "metadata": {},
     "output_type": "execute_result"
    }
   ],
   "source": [
    "df_vuelos.columns"
   ]
  },
  {
   "cell_type": "markdown",
   "id": "8372d49f",
   "metadata": {},
   "source": [
    "#### Utilizaremos el VIF variance_inflation_factor para eliminar las categorias que son dependientes entre ellas."
   ]
  },
  {
   "cell_type": "code",
   "execution_count": 19,
   "id": "1a23aee0",
   "metadata": {
    "ExecuteTime": {
     "end_time": "2022-03-02T10:15:18.565844Z",
     "start_time": "2022-03-02T10:15:18.488831Z"
    }
   },
   "outputs": [],
   "source": [
    "from statsmodels.stats.outliers_influence import variance_inflation_factor\n",
    "def regular_vif(df,vif_max):\n",
    "    vif_max=11\n",
    "    columnas_eliminadas=[]\n",
    "    while vif_max>10:\n",
    "        vif = pd.DataFrame()\n",
    "        vif[\"VIF\"] = [variance_inflation_factor(df.values, i) for i in range(df.shape[1])]\n",
    "        vif[\"variables\"] = df.columns\n",
    "        vif=vif.sort_values(by='VIF',ascending=False)\n",
    "\n",
    "        vif_max=vif.VIF.max()\n",
    "        columnas_eliminadas.append(vif.variables.iloc[0])\n",
    "    \n",
    "        df.drop(columns=[vif.variables.iloc[0]],inplace=True)\n",
    "    print(f'Columna eliminadas {columnas_eliminadas}')\n",
    "    print(vif.variables.values.tolist())\n",
    "   \n",
    "    return (vif)"
   ]
  },
  {
   "cell_type": "code",
   "execution_count": 20,
   "id": "04d08c03",
   "metadata": {
    "ExecuteTime": {
     "end_time": "2022-03-02T10:15:23.883525Z",
     "start_time": "2022-03-02T10:15:18.567844Z"
    }
   },
   "outputs": [
    {
     "name": "stdout",
     "output_type": "stream",
     "text": [
      "Columna eliminadas ['ArrDelay', 'AirTime', 'CRSElapsedTime', 'ActualElapsedTime', 'DepDelay', 'DepTime', 'CRSArrTime', 'CRSDepTime']\n",
      "['CRSDepTime', 'ArrTime', 'DayOfWeek', 'Month', 'DayofMonth', 'TaxiOut', 'Distance', 'TaxiIn', 'NASDelay', 'LateAircraftDelay', 'CarrierDelay', 'WeatherDelay', 'SecurityDelay']\n"
     ]
    },
    {
     "data": {
      "text/html": [
       "<div>\n",
       "<style scoped>\n",
       "    .dataframe tbody tr th:only-of-type {\n",
       "        vertical-align: middle;\n",
       "    }\n",
       "\n",
       "    .dataframe tbody tr th {\n",
       "        vertical-align: top;\n",
       "    }\n",
       "\n",
       "    .dataframe thead th {\n",
       "        text-align: right;\n",
       "    }\n",
       "</style>\n",
       "<table border=\"1\" class=\"dataframe\">\n",
       "  <thead>\n",
       "    <tr style=\"text-align: right;\">\n",
       "      <th></th>\n",
       "      <th>VIF</th>\n",
       "      <th>variables</th>\n",
       "    </tr>\n",
       "  </thead>\n",
       "  <tbody>\n",
       "    <tr>\n",
       "      <th>3</th>\n",
       "      <td>8.174893</td>\n",
       "      <td>CRSDepTime</td>\n",
       "    </tr>\n",
       "    <tr>\n",
       "      <th>4</th>\n",
       "      <td>6.020288</td>\n",
       "      <td>ArrTime</td>\n",
       "    </tr>\n",
       "    <tr>\n",
       "      <th>2</th>\n",
       "      <td>4.536194</td>\n",
       "      <td>DayOfWeek</td>\n",
       "    </tr>\n",
       "    <tr>\n",
       "      <th>0</th>\n",
       "      <td>4.334910</td>\n",
       "      <td>Month</td>\n",
       "    </tr>\n",
       "    <tr>\n",
       "      <th>1</th>\n",
       "      <td>3.943518</td>\n",
       "      <td>DayofMonth</td>\n",
       "    </tr>\n",
       "    <tr>\n",
       "      <th>7</th>\n",
       "      <td>3.446430</td>\n",
       "      <td>TaxiOut</td>\n",
       "    </tr>\n",
       "    <tr>\n",
       "      <th>5</th>\n",
       "      <td>2.700978</td>\n",
       "      <td>Distance</td>\n",
       "    </tr>\n",
       "    <tr>\n",
       "      <th>6</th>\n",
       "      <td>2.573044</td>\n",
       "      <td>TaxiIn</td>\n",
       "    </tr>\n",
       "    <tr>\n",
       "      <th>10</th>\n",
       "      <td>1.716343</td>\n",
       "      <td>NASDelay</td>\n",
       "    </tr>\n",
       "    <tr>\n",
       "      <th>12</th>\n",
       "      <td>1.239015</td>\n",
       "      <td>LateAircraftDelay</td>\n",
       "    </tr>\n",
       "    <tr>\n",
       "      <th>8</th>\n",
       "      <td>1.111429</td>\n",
       "      <td>CarrierDelay</td>\n",
       "    </tr>\n",
       "    <tr>\n",
       "      <th>9</th>\n",
       "      <td>1.068060</td>\n",
       "      <td>WeatherDelay</td>\n",
       "    </tr>\n",
       "    <tr>\n",
       "      <th>11</th>\n",
       "      <td>1.002118</td>\n",
       "      <td>SecurityDelay</td>\n",
       "    </tr>\n",
       "  </tbody>\n",
       "</table>\n",
       "</div>"
      ],
      "text/plain": [
       "         VIF          variables\n",
       "3   8.174893         CRSDepTime\n",
       "4   6.020288            ArrTime\n",
       "2   4.536194          DayOfWeek\n",
       "0   4.334910              Month\n",
       "1   3.943518         DayofMonth\n",
       "7   3.446430            TaxiOut\n",
       "5   2.700978           Distance\n",
       "6   2.573044             TaxiIn\n",
       "10  1.716343           NASDelay\n",
       "12  1.239015  LateAircraftDelay\n",
       "8   1.111429       CarrierDelay\n",
       "9   1.068060       WeatherDelay\n",
       "11  1.002118      SecurityDelay"
      ]
     },
     "execution_count": 20,
     "metadata": {},
     "output_type": "execute_result"
    }
   ],
   "source": [
    "regular_vif(df_vuelos,11)"
   ]
  },
  {
   "cell_type": "code",
   "execution_count": 21,
   "id": "cd28dc5b",
   "metadata": {
    "ExecuteTime": {
     "end_time": "2022-03-02T10:15:23.931527Z",
     "start_time": "2022-03-02T10:15:23.885525Z"
    }
   },
   "outputs": [
    {
     "data": {
      "text/html": [
       "<div>\n",
       "<style scoped>\n",
       "    .dataframe tbody tr th:only-of-type {\n",
       "        vertical-align: middle;\n",
       "    }\n",
       "\n",
       "    .dataframe tbody tr th {\n",
       "        vertical-align: top;\n",
       "    }\n",
       "\n",
       "    .dataframe thead th {\n",
       "        text-align: right;\n",
       "    }\n",
       "</style>\n",
       "<table border=\"1\" class=\"dataframe\">\n",
       "  <thead>\n",
       "    <tr style=\"text-align: right;\">\n",
       "      <th></th>\n",
       "      <th>Month</th>\n",
       "      <th>DayofMonth</th>\n",
       "      <th>DayOfWeek</th>\n",
       "      <th>ArrTime</th>\n",
       "      <th>Distance</th>\n",
       "      <th>TaxiIn</th>\n",
       "      <th>TaxiOut</th>\n",
       "      <th>CarrierDelay</th>\n",
       "      <th>WeatherDelay</th>\n",
       "      <th>NASDelay</th>\n",
       "      <th>SecurityDelay</th>\n",
       "      <th>LateAircraftDelay</th>\n",
       "    </tr>\n",
       "  </thead>\n",
       "  <tbody>\n",
       "    <tr>\n",
       "      <th>41032</th>\n",
       "      <td>1</td>\n",
       "      <td>1</td>\n",
       "      <td>2</td>\n",
       "      <td>1135.0</td>\n",
       "      <td>541</td>\n",
       "      <td>17.0</td>\n",
       "      <td>14.0</td>\n",
       "      <td>17.0</td>\n",
       "      <td>0.0</td>\n",
       "      <td>0.0</td>\n",
       "      <td>0.0</td>\n",
       "      <td>0.0</td>\n",
       "    </tr>\n",
       "    <tr>\n",
       "      <th>41250</th>\n",
       "      <td>1</td>\n",
       "      <td>2</td>\n",
       "      <td>3</td>\n",
       "      <td>1155.0</td>\n",
       "      <td>541</td>\n",
       "      <td>4.0</td>\n",
       "      <td>29.0</td>\n",
       "      <td>37.0</td>\n",
       "      <td>0.0</td>\n",
       "      <td>0.0</td>\n",
       "      <td>0.0</td>\n",
       "      <td>0.0</td>\n",
       "    </tr>\n",
       "    <tr>\n",
       "      <th>41251</th>\n",
       "      <td>1</td>\n",
       "      <td>2</td>\n",
       "      <td>3</td>\n",
       "      <td>1611.0</td>\n",
       "      <td>541</td>\n",
       "      <td>8.0</td>\n",
       "      <td>14.0</td>\n",
       "      <td>0.0</td>\n",
       "      <td>0.0</td>\n",
       "      <td>55.0</td>\n",
       "      <td>0.0</td>\n",
       "      <td>0.0</td>\n",
       "    </tr>\n",
       "    <tr>\n",
       "      <th>41515</th>\n",
       "      <td>1</td>\n",
       "      <td>3</td>\n",
       "      <td>4</td>\n",
       "      <td>1550.0</td>\n",
       "      <td>541</td>\n",
       "      <td>7.0</td>\n",
       "      <td>27.0</td>\n",
       "      <td>34.0</td>\n",
       "      <td>0.0</td>\n",
       "      <td>0.0</td>\n",
       "      <td>0.0</td>\n",
       "      <td>0.0</td>\n",
       "    </tr>\n",
       "    <tr>\n",
       "      <th>41683</th>\n",
       "      <td>1</td>\n",
       "      <td>4</td>\n",
       "      <td>5</td>\n",
       "      <td>1235.0</td>\n",
       "      <td>541</td>\n",
       "      <td>4.0</td>\n",
       "      <td>21.0</td>\n",
       "      <td>77.0</td>\n",
       "      <td>0.0</td>\n",
       "      <td>0.0</td>\n",
       "      <td>0.0</td>\n",
       "      <td>0.0</td>\n",
       "    </tr>\n",
       "    <tr>\n",
       "      <th>...</th>\n",
       "      <td>...</td>\n",
       "      <td>...</td>\n",
       "      <td>...</td>\n",
       "      <td>...</td>\n",
       "      <td>...</td>\n",
       "      <td>...</td>\n",
       "      <td>...</td>\n",
       "      <td>...</td>\n",
       "      <td>...</td>\n",
       "      <td>...</td>\n",
       "      <td>...</td>\n",
       "      <td>...</td>\n",
       "    </tr>\n",
       "    <tr>\n",
       "      <th>1936626</th>\n",
       "      <td>12</td>\n",
       "      <td>13</td>\n",
       "      <td>6</td>\n",
       "      <td>1529.0</td>\n",
       "      <td>760</td>\n",
       "      <td>9.0</td>\n",
       "      <td>20.0</td>\n",
       "      <td>0.0</td>\n",
       "      <td>0.0</td>\n",
       "      <td>24.0</td>\n",
       "      <td>0.0</td>\n",
       "      <td>0.0</td>\n",
       "    </tr>\n",
       "    <tr>\n",
       "      <th>1936629</th>\n",
       "      <td>12</td>\n",
       "      <td>13</td>\n",
       "      <td>6</td>\n",
       "      <td>2203.0</td>\n",
       "      <td>2475</td>\n",
       "      <td>11.0</td>\n",
       "      <td>17.0</td>\n",
       "      <td>2.0</td>\n",
       "      <td>0.0</td>\n",
       "      <td>0.0</td>\n",
       "      <td>0.0</td>\n",
       "      <td>28.0</td>\n",
       "    </tr>\n",
       "    <tr>\n",
       "      <th>1936631</th>\n",
       "      <td>12</td>\n",
       "      <td>13</td>\n",
       "      <td>6</td>\n",
       "      <td>2358.0</td>\n",
       "      <td>760</td>\n",
       "      <td>12.0</td>\n",
       "      <td>14.0</td>\n",
       "      <td>0.0</td>\n",
       "      <td>0.0</td>\n",
       "      <td>14.0</td>\n",
       "      <td>0.0</td>\n",
       "      <td>0.0</td>\n",
       "    </tr>\n",
       "    <tr>\n",
       "      <th>1936637</th>\n",
       "      <td>12</td>\n",
       "      <td>13</td>\n",
       "      <td>6</td>\n",
       "      <td>1811.0</td>\n",
       "      <td>1597</td>\n",
       "      <td>11.0</td>\n",
       "      <td>18.0</td>\n",
       "      <td>0.0</td>\n",
       "      <td>0.0</td>\n",
       "      <td>14.0</td>\n",
       "      <td>0.0</td>\n",
       "      <td>0.0</td>\n",
       "    </tr>\n",
       "    <tr>\n",
       "      <th>1936647</th>\n",
       "      <td>12</td>\n",
       "      <td>13</td>\n",
       "      <td>6</td>\n",
       "      <td>1256.0</td>\n",
       "      <td>760</td>\n",
       "      <td>10.0</td>\n",
       "      <td>48.0</td>\n",
       "      <td>13.0</td>\n",
       "      <td>0.0</td>\n",
       "      <td>34.0</td>\n",
       "      <td>0.0</td>\n",
       "      <td>0.0</td>\n",
       "    </tr>\n",
       "  </tbody>\n",
       "</table>\n",
       "<p>35234 rows × 12 columns</p>\n",
       "</div>"
      ],
      "text/plain": [
       "         Month  DayofMonth  DayOfWeek  ArrTime  Distance  TaxiIn  TaxiOut  \\\n",
       "41032        1           1          2   1135.0       541    17.0     14.0   \n",
       "41250        1           2          3   1155.0       541     4.0     29.0   \n",
       "41251        1           2          3   1611.0       541     8.0     14.0   \n",
       "41515        1           3          4   1550.0       541     7.0     27.0   \n",
       "41683        1           4          5   1235.0       541     4.0     21.0   \n",
       "...        ...         ...        ...      ...       ...     ...      ...   \n",
       "1936626     12          13          6   1529.0       760     9.0     20.0   \n",
       "1936629     12          13          6   2203.0      2475    11.0     17.0   \n",
       "1936631     12          13          6   2358.0       760    12.0     14.0   \n",
       "1936637     12          13          6   1811.0      1597    11.0     18.0   \n",
       "1936647     12          13          6   1256.0       760    10.0     48.0   \n",
       "\n",
       "         CarrierDelay  WeatherDelay  NASDelay  SecurityDelay  \\\n",
       "41032            17.0           0.0       0.0            0.0   \n",
       "41250            37.0           0.0       0.0            0.0   \n",
       "41251             0.0           0.0      55.0            0.0   \n",
       "41515            34.0           0.0       0.0            0.0   \n",
       "41683            77.0           0.0       0.0            0.0   \n",
       "...               ...           ...       ...            ...   \n",
       "1936626           0.0           0.0      24.0            0.0   \n",
       "1936629           2.0           0.0       0.0            0.0   \n",
       "1936631           0.0           0.0      14.0            0.0   \n",
       "1936637           0.0           0.0      14.0            0.0   \n",
       "1936647          13.0           0.0      34.0            0.0   \n",
       "\n",
       "         LateAircraftDelay  \n",
       "41032                  0.0  \n",
       "41250                  0.0  \n",
       "41251                  0.0  \n",
       "41515                  0.0  \n",
       "41683                  0.0  \n",
       "...                    ...  \n",
       "1936626                0.0  \n",
       "1936629               28.0  \n",
       "1936631                0.0  \n",
       "1936637                0.0  \n",
       "1936647                0.0  \n",
       "\n",
       "[35234 rows x 12 columns]"
      ]
     },
     "execution_count": 21,
     "metadata": {},
     "output_type": "execute_result"
    }
   ],
   "source": [
    "df_vuelos\n"
   ]
  },
  {
   "cell_type": "code",
   "execution_count": 22,
   "id": "8dc29edb",
   "metadata": {
    "ExecuteTime": {
     "end_time": "2022-03-02T10:18:30.257134Z",
     "start_time": "2022-03-02T10:18:28.810111Z"
    }
   },
   "outputs": [
    {
     "data": {
      "image/png": "[encoded data removed]",
      "text/plain": [
       "<Figure size 1080x360 with 2 Axes>"
      ]
     },
     "metadata": {
      "needs_background": "light"
     },
     "output_type": "display_data"
    }
   ],
   "source": [
    "fig,ax = plt.subplots(figsize=(15,5))\n",
    "corr = df_vuelos.corr()\n",
    "sns.set_theme(style=\"white\")\n",
    "cmap = sns.diverging_palette(230, 20, as_cmap=True)\n",
    "\n",
    "matrix = np.triu(corr)\n",
    "sns.heatmap(corr, annot=True, mask=matrix, cmap=cmap)\n",
    "plt.show()"
   ]
  },
  {
   "cell_type": "code",
   "execution_count": 23,
   "id": "f3b653bd",
   "metadata": {
    "ExecuteTime": {
     "end_time": "2022-03-02T10:18:51.711591Z",
     "start_time": "2022-03-02T10:18:51.699098Z"
    }
   },
   "outputs": [],
   "source": [
    "## incluimos DepDelay ya que lo quitaremos posteriormente\n",
    "df_vuelos['DepDelay']=df_NY['DepDelay']\n",
    "df_vuelos['Label']=df_NY['Label']"
   ]
  },
  {
   "cell_type": "markdown",
   "id": "29b2e6c3",
   "metadata": {},
   "source": [
    "Trabajaremos la descompesación de los valores"
   ]
  },
  {
   "cell_type": "code",
   "execution_count": 25,
   "id": "7effb1fc",
   "metadata": {
    "ExecuteTime": {
     "end_time": "2022-03-02T10:24:45.785860Z",
     "start_time": "2022-03-02T10:24:45.772349Z"
    }
   },
   "outputs": [],
   "source": [
    "# Añadimos label\n",
    "df_vuelos['Label']=df_NY['Label']"
   ]
  },
  {
   "cell_type": "code",
   "execution_count": 28,
   "id": "9d633cec",
   "metadata": {
    "ExecuteTime": {
     "end_time": "2022-03-02T10:25:39.858641Z",
     "start_time": "2022-03-02T10:25:39.825877Z"
    }
   },
   "outputs": [],
   "source": [
    "\n",
    "df_sac=df_vuelos.sample(frac=1,random_state=42)\n",
    "grupo1=df_sac[df_sac.Label==0]\n",
    "grupo2=df_sac[df_sac.Label==1].sample(n=len(grupo1),random_state=42)\n",
    "\n",
    "# compensado.\n",
    "df_equi = pd.concat([grupo1, grupo2])"
   ]
  },
  {
   "cell_type": "code",
   "execution_count": 29,
   "id": "e587906e",
   "metadata": {
    "ExecuteTime": {
     "end_time": "2022-03-02T10:25:41.322521Z",
     "start_time": "2022-03-02T10:25:41.312531Z"
    }
   },
   "outputs": [
    {
     "name": "stdout",
     "output_type": "stream",
     "text": [
      "(4064, 14)\n",
      "(4064, 14)\n",
      "(8128, 14)\n"
     ]
    }
   ],
   "source": [
    "print(grupo1.shape)\n",
    "print(grupo2.shape)\n",
    "print(df_equi.shape)"
   ]
  },
  {
   "cell_type": "markdown",
   "id": "cae4cc3a",
   "metadata": {},
   "source": [
    "***\n",
    "## Exercici 1\n",
    "Crea almenys tres models de classificació diferents per intentar predir el millor possible l’endarreriment dels vols (ArrDelay) de DelayedFlights.csv. Considera si el vol ha arribat tard o no (ArrDelay > 0)."
   ]
  },
  {
   "cell_type": "code",
   "execution_count": null,
   "id": "0d067e88",
   "metadata": {},
   "outputs": [],
   "source": [
    "# trabajamos con el df df_equi\n",
    "# separamos Label\n",
    "X = df_equi.drop('Label',axis=1)\n",
    "y = df_equi['Label']\n",
    "#Train 70%, test 30%\n",
    "X_train, X_test, y_train, y_test = train_test_split(X, y, test_size=0.3, random_state=42)"
   ]
  },
  {
   "cell_type": "code",
   "execution_count": null,
   "id": "752d46bb",
   "metadata": {},
   "outputs": [],
   "source": [
    "## escalamos los valores\n",
    "\n",
    "scaler = StandardScaler()\n",
    "\n",
    "X_train_std=scaler.fit_transform(X_train)\n",
    "X_test_std=scaler.transform(X_test)"
   ]
  },
  {
   "cell_type": "markdown",
   "id": "c9001497",
   "metadata": {},
   "source": [
    "**Decision Tree**"
   ]
  },
  {
   "cell_type": "code",
   "execution_count": 32,
   "id": "40bde366",
   "metadata": {
    "ExecuteTime": {
     "end_time": "2022-03-02T10:29:31.554061Z",
     "start_time": "2022-03-02T10:29:31.531537Z"
    }
   },
   "outputs": [],
   "source": [
    "model1 = DecisionTreeClassifier(criterion='gini', splitter='random')\n",
    "model1 = model1.fit(X_train,y_train)\n",
    "y_pred1 = model1.predict(X_test)"
   ]
  },
  {
   "cell_type": "markdown",
   "id": "44789b81",
   "metadata": {},
   "source": [
    "**K-Nearest Neighbors classifier**"
   ]
  },
  {
   "cell_type": "code",
   "execution_count": 33,
   "id": "f5fa7f37",
   "metadata": {
    "ExecuteTime": {
     "end_time": "2022-03-02T10:37:02.135028Z",
     "start_time": "2022-03-02T10:37:01.910845Z"
    }
   },
   "outputs": [],
   "source": [
    "model2 = KNeighborsClassifier()\n",
    "model2.fit(X_train, y_train)\n",
    "y_pred2 = model2.predict(X_test)"
   ]
  },
  {
   "cell_type": "markdown",
   "id": "8645e74a",
   "metadata": {},
   "source": [
    "#### Support vector machine classifier"
   ]
  },
  {
   "cell_type": "code",
   "execution_count": 34,
   "id": "0c1b0ae4",
   "metadata": {
    "ExecuteTime": {
     "end_time": "2022-03-02T10:37:21.465017Z",
     "start_time": "2022-03-02T10:37:18.008252Z"
    }
   },
   "outputs": [],
   "source": [
    "model3 = svm.SVC()\n",
    "model3.fit(X_train, y_train)\n",
    "y_pred3 = model3.predict(X_test)"
   ]
  },
  {
   "cell_type": "markdown",
   "id": "9ec4bf39",
   "metadata": {},
   "source": [
    "#### Logistic classifier"
   ]
  },
  {
   "cell_type": "code",
   "execution_count": 38,
   "id": "5b3ba57f",
   "metadata": {
    "ExecuteTime": {
     "end_time": "2022-03-02T10:39:36.033249Z",
     "start_time": "2022-03-02T10:39:35.921217Z"
    }
   },
   "outputs": [],
   "source": [
    "model4 = LogisticRegression()\n",
    "model4.fit(X_train,y_train)\n",
    "y_pred4 = model4.predict(X_test)"
   ]
  },
  {
   "cell_type": "markdown",
   "id": "e2ff6022",
   "metadata": {
    "ExecuteTime": {
     "end_time": "2022-03-02T10:38:58.063752Z",
     "start_time": "2022-03-02T10:38:58.057249Z"
    }
   },
   "source": [
    "#### XGBoost classifier"
   ]
  },
  {
   "cell_type": "code",
   "execution_count": 39,
   "id": "d9310ec9",
   "metadata": {
    "ExecuteTime": {
     "end_time": "2022-03-02T10:39:37.724267Z",
     "start_time": "2022-03-02T10:39:37.393221Z"
    }
   },
   "outputs": [],
   "source": [
    "model5 = xgb.XGBClassifier(objective='reg:logistic')\n",
    "model5.fit(X_train,y_train)\n",
    "predictions = model5.predict(X_test)\n",
    "y_pred5 = [round(value) for value in predictions]"
   ]
  },
  {
   "cell_type": "markdown",
   "id": "1195b582",
   "metadata": {},
   "source": [
    "***\n",
    "## Exercici 2\n",
    "Compara els models de classificació utilitzant la precisió (accuracy), una matriu de confiança i d’altres mètriques més avançades."
   ]
  },
  {
   "cell_type": "code",
   "execution_count": 40,
   "id": "725e9cd1",
   "metadata": {
    "ExecuteTime": {
     "end_time": "2022-03-02T10:39:38.256730Z",
     "start_time": "2022-03-02T10:39:38.225217Z"
    }
   },
   "outputs": [
    {
     "name": "stdout",
     "output_type": "stream",
     "text": [
      "Accuracy decision tree model: 84.0 %\n",
      "Accuracy KNN model: 81.0 %\n",
      "Accuracy SVM model: 71.0 %\n",
      "Accuracy Logistic model: 87.0 %\n",
      "Accuracy XGBoost model: 90.0 %\n"
     ]
    }
   ],
   "source": [
    "print('Accuracy decision tree model:',round(metrics.accuracy_score(y_test, y_pred1),2)*100,'%')\n",
    "print('Accuracy KNN model:',round(metrics.accuracy_score(y_test, y_pred2),2)*100,'%')\n",
    "print('Accuracy SVM model:',round(metrics.accuracy_score(y_test, y_pred3),2)*100,'%')\n",
    "print('Accuracy Logistic model:',round(metrics.accuracy_score(y_test, y_pred4),2)*100,'%')\n",
    "print('Accuracy XGBoost model:',round(metrics.accuracy_score(y_test, y_pred5),2)*100,'%')"
   ]
  },
  {
   "cell_type": "code",
   "execution_count": 42,
   "id": "f1dc4ed1",
   "metadata": {
    "ExecuteTime": {
     "end_time": "2022-03-02T11:07:13.625573Z",
     "start_time": "2022-03-02T11:07:13.608753Z"
    }
   },
   "outputs": [
    {
     "name": "stdout",
     "output_type": "stream",
     "text": [
      "Matrix decision tree model: [[1017  209]\n",
      " [ 184 1029]]\n",
      "Matrix KNN model: [[1134   92]\n",
      " [ 364  849]]\n",
      "Matrix SVM model: [[1018  208]\n",
      " [ 489  724]]\n",
      "Matrix model: [[1132   94]\n",
      " [ 216  997]]\n",
      "Matrix XGBoost model: [[1155   71]\n",
      " [ 181 1032]]\n"
     ]
    }
   ],
   "source": [
    "m1 = metrics.confusion_matrix(y_test, y_pred1)\n",
    "m2 = metrics.confusion_matrix(y_test, y_pred2)\n",
    "m3 = metrics.confusion_matrix(y_test, y_pred3)\n",
    "m4 = metrics.confusion_matrix(y_test, y_pred4)\n",
    "m5 = metrics.confusion_matrix(y_test, y_pred5)\n",
    "\n",
    "print('Matrix decision tree model:',m1)\n",
    "print('Matrix KNN model:',m2)\n",
    "print('Matrix SVM model:',m3)\n",
    "print('Matrix model:',m4)\n",
    "print('Matrix XGBoost model:',m5)"
   ]
  },
  {
   "cell_type": "code",
   "execution_count": 41,
   "id": "84c03c7a",
   "metadata": {
    "ExecuteTime": {
     "end_time": "2022-03-02T11:02:40.520202Z",
     "start_time": "2022-03-02T11:02:40.489616Z"
    }
   },
   "outputs": [
    {
     "name": "stdout",
     "output_type": "stream",
     "text": [
      "Matrix decision tree model: [[1017  209]\n",
      " [ 184 1029]]\n",
      "Matrix KNN model: [[1134   92]\n",
      " [ 364  849]]\n",
      "Matrix SVM model: [[1018  208]\n",
      " [ 489  724]]\n",
      "Matrix model: [[1132   94]\n",
      " [ 216  997]]\n",
      "Matrix XGBoost model: [[1155   71]\n",
      " [ 181 1032]]\n"
     ]
    }
   ],
   "source": [
    "m1 = metrics.confusion_matrix(y_test, y_pred1)\n",
    "m2 = metrics.confusion_matrix(y_test, y_pred2)\n",
    "m3 = metrics.confusion_matrix(y_test, y_pred3)\n",
    "m4 = metrics.confusion_matrix(y_test, y_pred4)\n",
    "m5 = metrics.confusion_matrix(y_test, y_pred5)\n",
    "\n",
    "print('Matrix decision tree model:',m1)\n",
    "print('Matrix KNN model:',m2)\n",
    "print('Matrix SVM model:',m3)\n",
    "print('Matrix model:',m4)\n",
    "print('Matrix XGBoost model:',m5)"
   ]
  },
  {
   "cell_type": "markdown",
   "id": "a8716430",
   "metadata": {},
   "source": [
    "#### Matriz de confusión"
   ]
  },
  {
   "cell_type": "code",
   "execution_count": 43,
   "id": "bce25841",
   "metadata": {
    "ExecuteTime": {
     "end_time": "2022-03-02T12:19:35.060475Z",
     "start_time": "2022-03-02T12:19:33.512364Z"
    }
   },
   "outputs": [
    {
     "data": {
      "image/png": "[encoded data removed]",
      "text/plain": [
       "<Figure size 432x288 with 2 Axes>"
      ]
     },
     "metadata": {},
     "output_type": "display_data"
    },
    {
     "data": {
      "image/png": "[encoded data removed]",
      "text/plain": [
       "<Figure size 432x288 with 2 Axes>"
      ]
     },
     "metadata": {},
     "output_type": "display_data"
    },
    {
     "data": {
      "image/png": "[encoded data removed]",
      "text/plain": [
       "<Figure size 432x288 with 2 Axes>"
      ]
     },
     "metadata": {},
     "output_type": "display_data"
    },
    {
     "data": {
      "image/png": "[encoded data removed]",
      "text/plain": [
       "<Figure size 432x288 with 2 Axes>"
      ]
     },
     "metadata": {},
     "output_type": "display_data"
    },
    {
     "data": {
      "image/png": "[encoded data removed]",
      "text/plain": [
       "<Figure size 432x288 with 2 Axes>"
      ]
     },
     "metadata": {},
     "output_type": "display_data"
    }
   ],
   "source": [
    "class_names=[0,1] # name  of classes\n",
    "fig, ax = plt.subplots()\n",
    "tick_marks = np.arange(len(class_names))\n",
    "plt.xticks(tick_marks, class_names)\n",
    "plt.yticks(tick_marks, class_names)\n",
    "# create heatmap\n",
    "\n",
    "\n",
    "dicc = {'DT': m1, 'KNN': m2, 'SVM': m3, 'Logistic': m4, 'XGBoost': m5}\n",
    "\n",
    "model = dicc.keys()\n",
    "\n",
    "for m in model:\n",
    "    sns.heatmap(pd.DataFrame(dicc[m]), annot=True, cmap=\"YlGnBu\" ,fmt='g')\n",
    "    ax.xaxis.set_label_position(\"top\")\n",
    "    plt.tight_layout()\n",
    "    plt.title(m, y=1.1,fontsize = 15)\n",
    "    plt.ylabel('Actual label')\n",
    "    plt.xlabel('Predicted label')\n",
    "    plt.show()"
   ]
  },
  {
   "cell_type": "code",
   "execution_count": 44,
   "id": "e91b907c",
   "metadata": {
    "ExecuteTime": {
     "end_time": "2022-03-02T12:26:50.923712Z",
     "start_time": "2022-03-02T12:26:50.875656Z"
    }
   },
   "outputs": [
    {
     "name": "stdout",
     "output_type": "stream",
     "text": [
      "Sensitivity decision tree model: 0.8483099752679307\n",
      "Sensitivity KNN model: 0.6999175597691674\n",
      "Sensitivity SVM model: 0.5968672712283595\n",
      "Sensitivity Logistic model: 0.8219291014014839\n",
      "Sensitivity XGBoost model: 0.8507831821929102\n"
     ]
    }
   ],
   "source": [
    "#sensitivity TP / (TP + FN)\n",
    "s1 = m1[1,1] / (m1[1,1] + m1[1,0])\n",
    "s2 = m2[1,1] / (m2[1,1] + m2[1,0])\n",
    "s3 = m3[1,1] / (m3[1,1] + m3[1,0])\n",
    "s4 = m4[1,1] / (m4[1,1] + m4[1,0])\n",
    "s5 = m5[1,1] / (m5[1,1] + m5[1,0])\n",
    "\n",
    "print('Sensitivity decision tree model:',s1)\n",
    "print('Sensitivity KNN model:',s2)\n",
    "print('Sensitivity SVM model:',s3)\n",
    "print('Sensitivity Logistic model:',s4)\n",
    "print('Sensitivity XGBoost model:',s5)"
   ]
  },
  {
   "cell_type": "code",
   "execution_count": 45,
   "id": "057e58f2",
   "metadata": {
    "ExecuteTime": {
     "end_time": "2022-03-02T12:29:22.977703Z",
     "start_time": "2022-03-02T12:29:22.925689Z"
    }
   },
   "outputs": [
    {
     "name": "stdout",
     "output_type": "stream",
     "text": [
      "F1 score decision tree model: 0.8396572827417381\n",
      "F1 score KNN model: 0.7883008356545961\n",
      "F1 score SVM model: 0.6750582750582751\n",
      "F1 score Logistic model: 0.865451388888889\n",
      "F1 score XGBoost model: 0.8911917098445596\n"
     ]
    }
   ],
   "source": [
    "f1 = f1_score(y_test, y_pred1)\n",
    "f2 = f1_score(y_test, y_pred2)\n",
    "f3 = f1_score(y_test, y_pred3)\n",
    "f4 = f1_score(y_test, y_pred4)\n",
    "f5 = f1_score(y_test, y_pred5)\n",
    "\n",
    "print('F1 score decision tree model:',f1)\n",
    "print('F1 score KNN model:',f2)\n",
    "print('F1 score SVM model:',f3)\n",
    "print('F1 score Logistic model:',f4)\n",
    "print('F1 score XGBoost model:',f5)"
   ]
  },
  {
   "cell_type": "code",
   "execution_count": 57,
   "id": "d888b7e8",
   "metadata": {
    "ExecuteTime": {
     "end_time": "2022-03-02T13:02:01.873768Z",
     "start_time": "2022-03-02T13:02:01.508994Z"
    }
   },
   "outputs": [
    {
     "data": {
      "image/png": "[encoded data removed]",
      "text/plain": [
       "<Figure size 648x360 with 1 Axes>"
      ]
     },
     "metadata": {},
     "output_type": "display_data"
    }
   ],
   "source": [
    "#ROC - summarizes the performance of the decision tree model at different threshold values\n",
    "fig,ax = plt.subplots(figsize=(9,5))\n",
    "fpr1, tpr1, thresholds1 = metrics.roc_curve(y_test, y_pred1)\n",
    "fpr2, tpr2, thresholds2 = metrics.roc_curve(y_test, y_pred2)\n",
    "fpr3, tpr3, thresholds3 = metrics.roc_curve(y_test, y_pred3)\n",
    "fpr4, tpr4, thresholds4 = metrics.roc_curve(y_test, y_pred4)\n",
    "fpr5, tpr5, thresholds5 = metrics.roc_curve(y_test, y_pred5)\n",
    "\n",
    "plt.plot(fpr1, tpr1,\"b:\", linewidth=2,color='red', label=\"DecisionTree\")\n",
    "plt.plot(fpr2, tpr2,\"b:\", linewidth=3, label=\"KNeighbors\")\n",
    "plt.plot(fpr3, tpr3,\"b:\", linewidth=2,color='green', label=\"SVC\")\n",
    "plt.plot(fpr4, tpr4,\"b:\", linewidth=3,color='purple', label=\"Logistic Regresion\")\n",
    "plt.plot(fpr5, tpr5,\"b:\", linewidth=2,color='black', label=\"XGBClassifier\")\n",
    "\n",
    "plt.xlim([0.0, 1.0])\n",
    "plt.ylim([0.0, 1.0])\n",
    "plt.rcParams['font.size'] = 13\n",
    "plt.title('ROC curve for decision tree classifier', fontsize = 15)\n",
    "plt.xlabel('False Positive Rate (1 - Specificity)',fontsize = 13)\n",
    "plt.ylabel('True Positive Rate (Sensitivity)',fontsize = 13)\n",
    "plt.legend(loc=\"lower right\", fontsize=16)\n",
    "plt.grid(True)"
   ]
  },
  {
   "cell_type": "code",
   "execution_count": 80,
   "id": "75029524",
   "metadata": {
    "ExecuteTime": {
     "end_time": "2022-03-02T13:51:21.822139Z",
     "start_time": "2022-03-02T13:51:21.802122Z"
    }
   },
   "outputs": [],
   "source": [
    "dicc = {'DT': [y_pred1,m1,fpr1, tpr1,thresholds1], 'KNN': [y_pred2,m2,fpr2, tpr2,thresholds2], \n",
    "        'SVM': [y_pred3,m3,fpr3, tpr3,thresholds3], 'Logistic': [y_pred4,m4,fpr4, tpr4,thresholds4]\n",
    "        , 'XGBoost': [y_pred5,m5,fpr5, tpr5,thresholds5]}\n",
    "\n",
    "model=dicc.keys()\n",
    "\n",
    "def limite(limite):\n",
    "    for m in model:\n",
    "        print(f'________ {m}________\\n')\n",
    "        \n",
    "        print(f'{limite} :')\n",
    "        print('Sensitivity:', dicc[m][3][dicc[m][4] > limite][-1])\n",
    "        print('Specificity:', 1 - dicc[m][2][dicc[m][4]> limite][-1])\n",
    "        \n",
    "        #AUC - area under the curve\n",
    "        print(f'AUC of {m} model:',round(metrics.roc_auc_score(y_test, dicc[m][0]),2)*100,'%')\n",
    "        \n",
    "        \n",
    "        print(\" \")\n",
    "        \n",
    "        \n",
    "        \n",
    "        \n",
    "        \n"
   ]
  },
  {
   "cell_type": "code",
   "execution_count": 81,
   "id": "25111f0a",
   "metadata": {
    "ExecuteTime": {
     "end_time": "2022-03-02T13:51:22.476169Z",
     "start_time": "2022-03-02T13:51:22.450121Z"
    }
   },
   "outputs": [
    {
     "name": "stdout",
     "output_type": "stream",
     "text": [
      "________ DT________\n",
      "\n",
      "0.5 :\n",
      "Sensitivity: 0.8483099752679307\n",
      "Specificity: 0.8295269168026101\n",
      "AUC of DT model: 84.0 %\n",
      " \n",
      "________ KNN________\n",
      "\n",
      "0.5 :\n",
      "Sensitivity: 0.6999175597691674\n",
      "Specificity: 0.9249592169657422\n",
      "AUC of KNN model: 81.0 %\n",
      " \n",
      "________ SVM________\n",
      "\n",
      "0.5 :\n",
      "Sensitivity: 0.5968672712283595\n",
      "Specificity: 0.8303425774877651\n",
      "AUC of SVM model: 71.0 %\n",
      " \n",
      "________ Logistic________\n",
      "\n",
      "0.5 :\n",
      "Sensitivity: 0.8219291014014839\n",
      "Specificity: 0.9233278955954323\n",
      "AUC of Logistic model: 87.0 %\n",
      " \n",
      "________ XGBoost________\n",
      "\n",
      "0.5 :\n",
      "Sensitivity: 0.8507831821929102\n",
      "Specificity: 0.9420880913539967\n",
      "AUC of XGBoost model: 90.0 %\n",
      " \n"
     ]
    }
   ],
   "source": [
    "limite(0.5)"
   ]
  },
  {
   "cell_type": "markdown",
   "id": "6aa3726c",
   "metadata": {},
   "source": [
    "***\n",
    "## Exercici 3\n",
    "Entrena’ls utilitzant els diferents paràmetres que admeten."
   ]
  },
  {
   "cell_type": "markdown",
   "id": "86cdbd31",
   "metadata": {
    "ExecuteTime": {
     "end_time": "2022-03-02T13:53:06.735047Z",
     "start_time": "2022-03-02T13:53:06.730047Z"
    }
   },
   "source": [
    "#### probamos diferentes parametros"
   ]
  },
  {
   "cell_type": "markdown",
   "id": "334ee43f",
   "metadata": {
    "ExecuteTime": {
     "end_time": "2022-03-02T13:54:02.055991Z",
     "start_time": "2022-03-02T13:54:02.050992Z"
    }
   },
   "source": [
    "#### Decision Tree"
   ]
  },
  {
   "cell_type": "code",
   "execution_count": 88,
   "id": "4e0b4b36",
   "metadata": {
    "ExecuteTime": {
     "end_time": "2022-03-02T13:56:34.137662Z",
     "start_time": "2022-03-02T13:56:34.098145Z"
    }
   },
   "outputs": [],
   "source": [
    "model6 = DecisionTreeClassifier(criterion='entropy', splitter='best')\n",
    "model6 = model6.fit(X_train,y_train)\n",
    "y_pred6 = model6.predict(X_test)"
   ]
  },
  {
   "cell_type": "markdown",
   "id": "d3d89310",
   "metadata": {},
   "source": [
    "#### K-Nearest Neighbors classifie"
   ]
  },
  {
   "cell_type": "code",
   "execution_count": 89,
   "id": "e73b35c6",
   "metadata": {
    "ExecuteTime": {
     "end_time": "2022-03-02T13:56:35.255245Z",
     "start_time": "2022-03-02T13:56:35.193561Z"
    }
   },
   "outputs": [],
   "source": [
    "model7 = KNeighborsClassifier(n_neighbors=1, weights='distance',leaf_size=50)\n",
    "model7.fit(X_train, y_train)\n",
    "y_pred7 = model7.predict(X_test)"
   ]
  },
  {
   "cell_type": "markdown",
   "id": "e18d4453",
   "metadata": {},
   "source": [
    "#### Support vector machine classifier"
   ]
  },
  {
   "cell_type": "code",
   "execution_count": 90,
   "id": "827eff75",
   "metadata": {
    "ExecuteTime": {
     "end_time": "2022-03-02T13:56:37.538833Z",
     "start_time": "2022-03-02T13:56:36.337901Z"
    }
   },
   "outputs": [],
   "source": [
    "model8 = svm.SVC(kernel='poly',degree=3, coef0=1.0, C=5)# porbablemete c5\n",
    "model8.fit(X_train, y_train)\n",
    "y_pred8 = model8.predict(X_test)"
   ]
  },
  {
   "cell_type": "markdown",
   "id": "35d4c317",
   "metadata": {},
   "source": [
    "#### Logistic classifier"
   ]
  },
  {
   "cell_type": "code",
   "execution_count": 91,
   "id": "3d5a3052",
   "metadata": {
    "ExecuteTime": {
     "end_time": "2022-03-02T13:56:39.426912Z",
     "start_time": "2022-03-02T13:56:37.541835Z"
    }
   },
   "outputs": [],
   "source": [
    "model9 = LogisticRegression(class_weight='balanced',solver= 'newton-cg', multi_class='multinomial', random_state=42)\n",
    "model9.fit(X_train,y_train)\n",
    "y_pred9 = model9.predict(X_test)"
   ]
  },
  {
   "cell_type": "markdown",
   "id": "4c6036db",
   "metadata": {},
   "source": [
    "#### XGBoost classifier"
   ]
  },
  {
   "cell_type": "code",
   "execution_count": 92,
   "id": "1505e55c",
   "metadata": {
    "ExecuteTime": {
     "end_time": "2022-03-02T13:56:39.935560Z",
     "start_time": "2022-03-02T13:56:39.429913Z"
    }
   },
   "outputs": [],
   "source": [
    "model10 = xgb.XGBClassifier(colsample_bytree=0.3,learning_rate=0.1,max_depth=10,n_estimators=100,objective='reg:logistic')\n",
    "model10.fit(X_train,y_train)\n",
    "predictions = model10.predict(X_test)\n",
    "y_pred10 = [round(value) for value in predictions]"
   ]
  },
  {
   "cell_type": "markdown",
   "id": "be67b6b9",
   "metadata": {},
   "source": [
    "***\n",
    "## Exercici 4\n",
    "Compara el seu rendiment utilitzant l’aproximació traint/test o cross-validation"
   ]
  },
  {
   "cell_type": "code",
   "execution_count": 93,
   "id": "7066bae9",
   "metadata": {
    "ExecuteTime": {
     "end_time": "2022-03-02T13:58:09.427835Z",
     "start_time": "2022-03-02T13:58:09.364253Z"
    }
   },
   "outputs": [
    {
     "data": {
      "text/html": [
       "<div>\n",
       "<style scoped>\n",
       "    .dataframe tbody tr th:only-of-type {\n",
       "        vertical-align: middle;\n",
       "    }\n",
       "\n",
       "    .dataframe tbody tr th {\n",
       "        vertical-align: top;\n",
       "    }\n",
       "\n",
       "    .dataframe thead th {\n",
       "        text-align: right;\n",
       "    }\n",
       "</style>\n",
       "<table border=\"1\" class=\"dataframe\">\n",
       "  <thead>\n",
       "    <tr style=\"text-align: right;\">\n",
       "      <th></th>\n",
       "      <th>First F1_score</th>\n",
       "      <th>Second F1_score</th>\n",
       "    </tr>\n",
       "  </thead>\n",
       "  <tbody>\n",
       "    <tr>\n",
       "      <th>DT</th>\n",
       "      <td>0.839657</td>\n",
       "      <td>0.858906</td>\n",
       "    </tr>\n",
       "    <tr>\n",
       "      <th>KNN</th>\n",
       "      <td>0.788301</td>\n",
       "      <td>0.824046</td>\n",
       "    </tr>\n",
       "    <tr>\n",
       "      <th>SVM</th>\n",
       "      <td>0.675058</td>\n",
       "      <td>0.851244</td>\n",
       "    </tr>\n",
       "    <tr>\n",
       "      <th>Logistic</th>\n",
       "      <td>0.865451</td>\n",
       "      <td>0.893750</td>\n",
       "    </tr>\n",
       "    <tr>\n",
       "      <th>XGBoost</th>\n",
       "      <td>0.891192</td>\n",
       "      <td>0.899197</td>\n",
       "    </tr>\n",
       "  </tbody>\n",
       "</table>\n",
       "</div>"
      ],
      "text/plain": [
       "          First F1_score  Second F1_score\n",
       "DT              0.839657         0.858906\n",
       "KNN             0.788301         0.824046\n",
       "SVM             0.675058         0.851244\n",
       "Logistic        0.865451         0.893750\n",
       "XGBoost         0.891192         0.899197"
      ]
     },
     "execution_count": 93,
     "metadata": {},
     "output_type": "execute_result"
    }
   ],
   "source": [
    "#comparing f1_scores\n",
    "f6 = f1_score(y_test, y_pred6)\n",
    "f7 = f1_score(y_test, y_pred7)\n",
    "f8 = f1_score(y_test, y_pred8)\n",
    "f9 = f1_score(y_test, y_pred9)\n",
    "f10 = f1_score(y_test, y_pred10)\n",
    "\n",
    "d1 = {'DT': f1, 'KNN': f2, 'SVM': f3, 'Logistic': f4, 'XGBoost': f5}\n",
    "class1 = pd.Series(data=d1, index=['DT', 'KNN', 'SVM', 'Logistic', 'XGBoost'])\n",
    "\n",
    "d2 = {'DT': f6, 'KNN': f7, 'SVM': f8, 'Logistic': f9, 'XGBoost': f10}\n",
    "class2 = pd.Series(data=d2, index=['DT', 'KNN', 'SVM', 'Logistic', 'XGBoost'])\n",
    "\n",
    "df_class = pd.DataFrame({'First F1_score':class1, 'Second F1_score':class2})\n",
    "df_class"
   ]
  },
  {
   "cell_type": "code",
   "execution_count": 98,
   "id": "a373bc11",
   "metadata": {
    "ExecuteTime": {
     "end_time": "2022-03-02T14:35:01.055986Z",
     "start_time": "2022-03-02T14:34:58.228002Z"
    }
   },
   "outputs": [
    {
     "name": "stdout",
     "output_type": "stream",
     "text": [
      " Decision tree classifier has 0.84 accuracy with a standard deviation of 0.01\n",
      " KNN classifier has 0.73 accuracy with a standard deviation of 0.01\n",
      " SVM classifier has 0.68 accuracy with a standard deviation of 0.01\n",
      " Logistic classifier has 0.88 accuracy with a standard deviation of 0.02\n",
      " XGBoost classifier has 0.89 accuracy with a standard deviation of 0.01\n"
     ]
    }
   ],
   "source": [
    "#Cross-validation\n",
    "cv = StratifiedKFold(n_splits=5, random_state=42, shuffle=True)\n",
    "\n",
    "scores1 = cross_val_score(model1, X_test, y_test, cv=cv)\n",
    "scores2 = cross_val_score(model2, X_test, y_test, cv=cv)\n",
    "scores3 = cross_val_score(model3, X_test, y_test, cv=cv)\n",
    "scores4 = cross_val_score(model4, X_test, y_test, cv=cv)\n",
    "scores5 = cross_val_score(model5, X_test, y_test, cv=cv)\n",
    "\n",
    "print(\" Decision tree classifier has %0.2f accuracy with a standard deviation of %0.2f\" % (scores1.mean(), scores1.std()))\n",
    "print(\" KNN classifier has %0.2f accuracy with a standard deviation of %0.2f\" % (scores2.mean(), scores2.std()))\n",
    "print(\" SVM classifier has %0.2f accuracy with a standard deviation of %0.2f\" % (scores3.mean(), scores3.std()))\n",
    "print(\" Logistic classifier has %0.2f accuracy with a standard deviation of %0.2f\" % (scores4.mean(), scores4.std()))\n",
    "print(\" XGBoost classifier has %0.2f accuracy with a standard deviation of %0.2f\" % (scores5.mean(), scores5.std()))"
   ]
  },
  {
   "cell_type": "code",
   "execution_count": 101,
   "id": "f1dbb6f2",
   "metadata": {
    "ExecuteTime": {
     "end_time": "2022-03-02T14:36:45.077050Z",
     "start_time": "2022-03-02T14:36:39.371030Z"
    }
   },
   "outputs": [
    {
     "name": "stdout",
     "output_type": "stream",
     "text": [
      " Decision tree classifier has 0.86 accuracy with a standard deviation of 0.01\n",
      " KNN classifier has 0.79 accuracy with a standard deviation of 0.01\n",
      " SVM classifier has 0.84 accuracy with a standard deviation of 0.01\n",
      " Logistic classifier has 0.90 accuracy with a standard deviation of 0.02\n",
      " XGBoost classifier has 0.90 accuracy with a standard deviation of 0.01\n"
     ]
    }
   ],
   "source": [
    "#Cross-validation\n",
    "cv = StratifiedKFold(n_splits=5, random_state=42, shuffle=True)\n",
    "\n",
    "scores6 = cross_val_score(model6, X_test, y_test, cv=cv)\n",
    "scores7 = cross_val_score(model7, X_test, y_test, cv=cv)\n",
    "scores8 = cross_val_score(model8, X_test, y_test, cv=cv)\n",
    "scores9 = cross_val_score(model9, X_test, y_test, cv=cv)\n",
    "scores10 = cross_val_score(model10, X_test, y_test, cv=cv)\n",
    "\n",
    "print(\" Decision tree classifier has %0.2f accuracy with a standard deviation of %0.2f\" % (scores6.mean(), scores1.std()))\n",
    "print(\" KNN classifier has %0.2f accuracy with a standard deviation of %0.2f\" % (scores7.mean(), scores2.std()))\n",
    "print(\" SVM classifier has %0.2f accuracy with a standard deviation of %0.2f\" % (scores8.mean(), scores3.std()))\n",
    "print(\" Logistic classifier has %0.2f accuracy with a standard deviation of %0.2f\" % (scores9.mean(), scores4.std()))\n",
    "print(\" XGBoost classifier has %0.2f accuracy with a standard deviation of %0.2f\" % (scores10.mean(), scores5.std()))"
   ]
  },
  {
   "cell_type": "markdown",
   "id": "ad95cf96",
   "metadata": {},
   "source": [
    "***\n",
    "\n",
    "## Exercici 5\n",
    "Realitza algun procés d’enginyeria de variables per millorar-ne la predicció"
   ]
  },
  {
   "cell_type": "code",
   "execution_count": 102,
   "id": "c2f65b84",
   "metadata": {
    "ExecuteTime": {
     "end_time": "2022-03-02T14:39:33.211063Z",
     "start_time": "2022-03-02T14:39:32.683918Z"
    }
   },
   "outputs": [
    {
     "data": {
      "image/png": "[encoded data removed]",
      "text/plain": [
       "<Figure size 432x288 with 1 Axes>"
      ]
     },
     "metadata": {},
     "output_type": "display_data"
    }
   ],
   "source": [
    "ax = sns.boxplot(data=df_vuelos, orient=\"h\", palette=\"Set2\")"
   ]
  },
  {
   "cell_type": "markdown",
   "id": "e5728334",
   "metadata": {},
   "source": [
    "#### Eliminaremos los outliers"
   ]
  },
  {
   "cell_type": "code",
   "execution_count": 103,
   "id": "b79008a4",
   "metadata": {
    "ExecuteTime": {
     "end_time": "2022-03-02T14:40:33.458894Z",
     "start_time": "2022-03-02T14:40:33.390159Z"
    }
   },
   "outputs": [
    {
     "name": "stdout",
     "output_type": "stream",
     "text": [
      "Month,lower_bound -6.0   upper_bound 18.0\n",
      "DayofMonth,lower_bound -14.5   upper_bound 45.5\n",
      "DayOfWeek,lower_bound -4.0   upper_bound 12.0\n",
      "ArrTime,lower_bound 54.125   upper_bound 3227.125\n",
      "Distance,lower_bound -2019.5   upper_bound 4808.5\n",
      "TaxiIn,lower_bound -5.5   upper_bound 22.5\n",
      "TaxiOut,lower_bound -1.5   upper_bound 34.5\n",
      "CarrierDelay,lower_bound 0.0   upper_bound 0.0\n",
      "WeatherDelay,lower_bound 0.0   upper_bound 0.0\n",
      "NASDelay,lower_bound 14.0   upper_bound 14.0\n",
      "SecurityDelay,lower_bound 0.0   upper_bound 0.0\n",
      "LateAircraftDelay,lower_bound 0.0   upper_bound 0.0\n",
      "DepDelay,lower_bound -33.0   upper_bound 79.0\n",
      "Label,lower_bound -1.5   upper_bound 2.5\n"
     ]
    }
   ],
   "source": [
    "df_prueba=df_equi.copy()\n",
    "\n",
    "\n",
    "\n",
    "for v in df_prueba.columns:\n",
    "   \n",
    "    q1, q3= np.percentile(df_prueba[v],[25,75])\n",
    "    iqr = q3 - q1\n",
    "    lower_bound = q1 -(1.5 * iqr) \n",
    "    upper_bound = q3 +(1.5 * iqr)\n",
    "    median=df_prueba[v].median()\n",
    "    print(f'{v},lower_bound { lower_bound}   upper_bound { upper_bound}')\n",
    "    df_prueba[v] = df_prueba[v].mask(df_prueba[v] <lower_bound, median)\n",
    "    df_prueba[v] = df_prueba[v].mask(df_prueba[v] >upper_bound, median)\n",
    "   "
   ]
  },
  {
   "cell_type": "code",
   "execution_count": 104,
   "id": "59c8d51c",
   "metadata": {
    "ExecuteTime": {
     "end_time": "2022-03-02T14:40:56.340440Z",
     "start_time": "2022-03-02T14:40:55.892902Z"
    }
   },
   "outputs": [
    {
     "data": {
      "text/plain": [
       "<AxesSubplot:>"
      ]
     },
     "execution_count": 104,
     "metadata": {},
     "output_type": "execute_result"
    },
    {
     "data": {
      "image/png": "[encoded data removed]",
      "text/plain": [
       "<Figure size 432x288 with 1 Axes>"
      ]
     },
     "metadata": {},
     "output_type": "display_data"
    }
   ],
   "source": [
    "sns.boxplot(data=df_prueba, orient=\"h\", palette=\"Set2\")"
   ]
  },
  {
   "cell_type": "code",
   "execution_count": 105,
   "id": "cdc4c86f",
   "metadata": {
    "ExecuteTime": {
     "end_time": "2022-03-02T14:41:17.949337Z",
     "start_time": "2022-03-02T14:41:17.933741Z"
    }
   },
   "outputs": [],
   "source": [
    "X = df_prueba.drop('Label',axis=1)\n",
    "y = df_prueba['Label']\n",
    "#Train 70%, test 30%\n",
    "X_train, X_test, y_train, y_test = train_test_split(X, y, test_size=0.3, random_state=42)"
   ]
  },
  {
   "cell_type": "code",
   "execution_count": 106,
   "id": "90530699",
   "metadata": {
    "ExecuteTime": {
     "end_time": "2022-03-02T14:41:31.852961Z",
     "start_time": "2022-03-02T14:41:31.835964Z"
    }
   },
   "outputs": [],
   "source": [
    "## escalamos los valores\n",
    "\n",
    "scaler = StandardScaler()\n",
    "\n",
    "X_train_std=scaler.fit_transform(X_train)\n",
    "X_test_std=scaler.transform(X_test)"
   ]
  },
  {
   "cell_type": "code",
   "execution_count": 107,
   "id": "d7c5a8c6",
   "metadata": {
    "ExecuteTime": {
     "end_time": "2022-03-02T14:41:46.879232Z",
     "start_time": "2022-03-02T14:41:46.842713Z"
    }
   },
   "outputs": [],
   "source": [
    "model11 = DecisionTreeClassifier()\n",
    "model11 = model11.fit(X_train,y_train)\n",
    "y_pred11 = model11.predict(X_test)"
   ]
  },
  {
   "cell_type": "code",
   "execution_count": 108,
   "id": "04acb7a8",
   "metadata": {
    "ExecuteTime": {
     "end_time": "2022-03-02T14:41:56.582225Z",
     "start_time": "2022-03-02T14:41:56.530707Z"
    }
   },
   "outputs": [],
   "source": [
    "model12 = KNeighborsClassifier(n_neighbors=1, weights='distance',leaf_size=50)\n",
    "model12.fit(X_train, y_train)\n",
    "y_pred12 = model12.predict(X_test)"
   ]
  },
  {
   "cell_type": "code",
   "execution_count": 109,
   "id": "a0524871",
   "metadata": {
    "ExecuteTime": {
     "end_time": "2022-03-02T14:42:20.432270Z",
     "start_time": "2022-03-02T14:42:17.083335Z"
    }
   },
   "outputs": [],
   "source": [
    "model13 = svm.SVC(kernel='poly',degree=3, coef0=1.0, C=5)# porbablemete c5\n",
    "model13.fit(X_train, y_train)\n",
    "y_pred13 = model3.predict(X_test)"
   ]
  },
  {
   "cell_type": "code",
   "execution_count": 110,
   "id": "0e70bbb7",
   "metadata": {
    "ExecuteTime": {
     "end_time": "2022-03-02T14:42:21.170124Z",
     "start_time": "2022-03-02T14:42:21.068083Z"
    }
   },
   "outputs": [],
   "source": [
    "model14 = LogisticRegression()\n",
    "model14.fit(X_train,y_train)\n",
    "y_pred14 = model14.predict(X_test)"
   ]
  },
  {
   "cell_type": "code",
   "execution_count": 111,
   "id": "1bb321ec",
   "metadata": {
    "ExecuteTime": {
     "end_time": "2022-03-02T14:42:32.496280Z",
     "start_time": "2022-03-02T14:42:32.145681Z"
    }
   },
   "outputs": [],
   "source": [
    "model15 = xgb.XGBClassifier(objective='reg:logistic')\n",
    "model15.fit(X_train,y_train)\n",
    "predictions = model15.predict(X_test)\n",
    "y_pred15 = [round(value) for value in predictions]"
   ]
  },
  {
   "cell_type": "code",
   "execution_count": 112,
   "id": "46f65800",
   "metadata": {
    "ExecuteTime": {
     "end_time": "2022-03-02T14:42:43.959702Z",
     "start_time": "2022-03-02T14:42:43.683407Z"
    }
   },
   "outputs": [
    {
     "data": {
      "text/html": [
       "<div>\n",
       "<style scoped>\n",
       "    .dataframe tbody tr th:only-of-type {\n",
       "        vertical-align: middle;\n",
       "    }\n",
       "\n",
       "    .dataframe tbody tr th {\n",
       "        vertical-align: top;\n",
       "    }\n",
       "\n",
       "    .dataframe thead th {\n",
       "        text-align: right;\n",
       "    }\n",
       "</style>\n",
       "<table border=\"1\" class=\"dataframe\">\n",
       "  <thead>\n",
       "    <tr style=\"text-align: right;\">\n",
       "      <th></th>\n",
       "      <th>First F1_score</th>\n",
       "      <th>Second F1_score</th>\n",
       "      <th>Third F1_score</th>\n",
       "    </tr>\n",
       "  </thead>\n",
       "  <tbody>\n",
       "    <tr>\n",
       "      <th>DT</th>\n",
       "      <td>0.839657</td>\n",
       "      <td>0.858906</td>\n",
       "      <td>0.779910</td>\n",
       "    </tr>\n",
       "    <tr>\n",
       "      <th>KNN</th>\n",
       "      <td>0.788301</td>\n",
       "      <td>0.824046</td>\n",
       "      <td>0.766307</td>\n",
       "    </tr>\n",
       "    <tr>\n",
       "      <th>SVM</th>\n",
       "      <td>0.675058</td>\n",
       "      <td>0.851244</td>\n",
       "      <td>0.506624</td>\n",
       "    </tr>\n",
       "    <tr>\n",
       "      <th>Logistic</th>\n",
       "      <td>0.865451</td>\n",
       "      <td>0.893750</td>\n",
       "      <td>0.763293</td>\n",
       "    </tr>\n",
       "    <tr>\n",
       "      <th>XGBoost</th>\n",
       "      <td>0.891192</td>\n",
       "      <td>0.899197</td>\n",
       "      <td>0.834820</td>\n",
       "    </tr>\n",
       "  </tbody>\n",
       "</table>\n",
       "</div>"
      ],
      "text/plain": [
       "          First F1_score  Second F1_score  Third F1_score\n",
       "DT              0.839657         0.858906        0.779910\n",
       "KNN             0.788301         0.824046        0.766307\n",
       "SVM             0.675058         0.851244        0.506624\n",
       "Logistic        0.865451         0.893750        0.763293\n",
       "XGBoost         0.891192         0.899197        0.834820"
      ]
     },
     "execution_count": 112,
     "metadata": {},
     "output_type": "execute_result"
    }
   ],
   "source": [
    "##comparing f1_scores\n",
    "f11 = f1_score(y_test, y_pred11)\n",
    "f12 = f1_score(y_test, y_pred12)\n",
    "f13 = f1_score(y_test, y_pred13)\n",
    "f14 = f1_score(y_test, y_pred14)\n",
    "f15 = f1_score(y_test, y_pred15)\n",
    "\n",
    "d1 = {'DT': f1, 'KNN': f2, 'SVM': f3, 'Logistic': f4, 'XGBoost': f5}\n",
    "class1 = pd.Series(data=d1, index=['DT', 'KNN', 'SVM', 'Logistic', 'XGBoost'])\n",
    "d2 = {'DT': f6, 'KNN': f7, 'SVM': f8, 'Logistic': f9, 'XGBoost': f10}\n",
    "class2 = pd.Series(data=d2, index=['DT', 'KNN', 'SVM', 'Logistic', 'XGBoost'])\n",
    "d3 = {'DT': f11, 'KNN': f12, 'SVM': f13, 'Logistic': f14, 'XGBoost': f15}\n",
    "class3 = pd.Series(data=d3, index=['DT', 'KNN', 'SVM', 'Logistic', 'XGBoost'])\n",
    "\n",
    "df_class = pd.DataFrame({'First F1_score':class1, 'Second F1_score':class2, 'Third F1_score':class3})\n",
    "df_class"
   ]
  },
  {
   "cell_type": "markdown",
   "id": "054c990a",
   "metadata": {},
   "source": [
    "***\n",
    "\n",
    "## Exercici 6\n",
    "No utilitzis la variable DepDelay a l’hora de fer prediccions"
   ]
  },
  {
   "cell_type": "code",
   "execution_count": 113,
   "id": "bc384a34",
   "metadata": {
    "ExecuteTime": {
     "end_time": "2022-03-02T14:44:16.325115Z",
     "start_time": "2022-03-02T14:44:16.310608Z"
    }
   },
   "outputs": [],
   "source": [
    "df_fin=df_equi.copy()\n",
    "df_fin.drop(['ArrTime'],axis=1,inplace=True)"
   ]
  },
  {
   "cell_type": "code",
   "execution_count": 115,
   "id": "2eaae883",
   "metadata": {
    "ExecuteTime": {
     "end_time": "2022-03-02T14:44:36.874203Z",
     "start_time": "2022-03-02T14:44:35.234596Z"
    }
   },
   "outputs": [
    {
     "data": {
      "image/png": "[encoded data removed]",
      "text/plain": [
       "<Figure size 1080x288 with 2 Axes>"
      ]
     },
     "metadata": {},
     "output_type": "display_data"
    }
   ],
   "source": [
    "#Correlation matrix\n",
    "fig,ax = plt.subplots(figsize=(15,4))\n",
    "corr = df_fin.corr()\n",
    "sns.set_theme(style=\"white\")\n",
    "cmap = sns.diverging_palette(230, 20, as_cmap=True)\n",
    "\n",
    "matrix = np.triu(corr)\n",
    "sns.heatmap(corr, annot=True, mask=matrix, cmap=cmap)\n",
    "plt.show()"
   ]
  },
  {
   "cell_type": "code",
   "execution_count": 116,
   "id": "72c74ff6",
   "metadata": {
    "ExecuteTime": {
     "end_time": "2022-03-02T14:44:51.850847Z",
     "start_time": "2022-03-02T14:44:51.837847Z"
    }
   },
   "outputs": [],
   "source": [
    "X = df_fin.drop('Label',axis=1)\n",
    "y = df_fin['Label']\n",
    "#Train 70%, test 30%\n",
    "X_train, X_test, y_train, y_test = train_test_split(X, y, test_size=0.3, random_state=42)"
   ]
  },
  {
   "cell_type": "code",
   "execution_count": 117,
   "id": "8c314355",
   "metadata": {
    "ExecuteTime": {
     "end_time": "2022-03-02T14:45:01.215737Z",
     "start_time": "2022-03-02T14:45:01.197737Z"
    }
   },
   "outputs": [],
   "source": [
    "#scaling the values\n",
    "scaler = StandardScaler()\n",
    "scaler.fit(X_train)\n",
    "X_train = scaler.transform(X_train)\n",
    "X_test = scaler.transform(X_test)"
   ]
  },
  {
   "cell_type": "code",
   "execution_count": 118,
   "id": "1bdf0e63",
   "metadata": {
    "ExecuteTime": {
     "end_time": "2022-03-02T14:45:21.741564Z",
     "start_time": "2022-03-02T14:45:21.707562Z"
    }
   },
   "outputs": [],
   "source": [
    "model16 = DecisionTreeClassifier()\n",
    "model16 = model16.fit(X_train,y_train)\n",
    "y_pred16 = model16.predict(X_test)"
   ]
  },
  {
   "cell_type": "code",
   "execution_count": 119,
   "id": "42e831bc",
   "metadata": {
    "ExecuteTime": {
     "end_time": "2022-03-02T14:45:31.883888Z",
     "start_time": "2022-03-02T14:45:31.618556Z"
    }
   },
   "outputs": [],
   "source": [
    "model17 = KNeighborsClassifier(n_neighbors=1, weights='distance',leaf_size=50)\n",
    "model17.fit(X_train, y_train)\n",
    "y_pred17 = model17.predict(X_test)"
   ]
  },
  {
   "cell_type": "code",
   "execution_count": 120,
   "id": "e8a8e5b7",
   "metadata": {
    "ExecuteTime": {
     "end_time": "2022-03-02T14:45:43.342807Z",
     "start_time": "2022-03-02T14:45:42.691548Z"
    }
   },
   "outputs": [],
   "source": [
    "model18 = svm.SVC(kernel='linear', coef0=1.0, random_state=42)\n",
    "model18.fit(X_train, y_train)\n",
    "y_pred18 = model18.predict(X_test)"
   ]
  },
  {
   "cell_type": "code",
   "execution_count": 121,
   "id": "690b5135",
   "metadata": {
    "ExecuteTime": {
     "end_time": "2022-03-02T14:45:53.664519Z",
     "start_time": "2022-03-02T14:45:53.619986Z"
    }
   },
   "outputs": [],
   "source": [
    "model19 = LogisticRegression()\n",
    "model19.fit(X_train,y_train)\n",
    "y_pred19 = model19.predict(X_test)"
   ]
  },
  {
   "cell_type": "code",
   "execution_count": 122,
   "id": "5b176023",
   "metadata": {
    "ExecuteTime": {
     "end_time": "2022-03-02T14:46:04.454619Z",
     "start_time": "2022-03-02T14:46:04.130531Z"
    }
   },
   "outputs": [],
   "source": [
    "model20 = xgb.XGBClassifier(objective='reg:logistic')\n",
    "model20.fit(X_train,y_train)\n",
    "predictions = model20.predict(X_test)\n",
    "y_pred20 = [round(value) for value in predictions]"
   ]
  },
  {
   "cell_type": "code",
   "execution_count": 123,
   "id": "00b9b8cb",
   "metadata": {
    "ExecuteTime": {
     "end_time": "2022-03-02T14:46:16.694024Z",
     "start_time": "2022-03-02T14:46:16.643014Z"
    }
   },
   "outputs": [
    {
     "data": {
      "text/html": [
       "<div>\n",
       "<style scoped>\n",
       "    .dataframe tbody tr th:only-of-type {\n",
       "        vertical-align: middle;\n",
       "    }\n",
       "\n",
       "    .dataframe tbody tr th {\n",
       "        vertical-align: top;\n",
       "    }\n",
       "\n",
       "    .dataframe thead th {\n",
       "        text-align: right;\n",
       "    }\n",
       "</style>\n",
       "<table border=\"1\" class=\"dataframe\">\n",
       "  <thead>\n",
       "    <tr style=\"text-align: right;\">\n",
       "      <th></th>\n",
       "      <th>First F1_score</th>\n",
       "      <th>Second F1_score</th>\n",
       "      <th>Third F1_score</th>\n",
       "      <th>Fourth F1_score</th>\n",
       "    </tr>\n",
       "  </thead>\n",
       "  <tbody>\n",
       "    <tr>\n",
       "      <th>DT</th>\n",
       "      <td>0.839657</td>\n",
       "      <td>0.858906</td>\n",
       "      <td>0.779910</td>\n",
       "      <td>0.836349</td>\n",
       "    </tr>\n",
       "    <tr>\n",
       "      <th>KNN</th>\n",
       "      <td>0.788301</td>\n",
       "      <td>0.824046</td>\n",
       "      <td>0.766307</td>\n",
       "      <td>0.788660</td>\n",
       "    </tr>\n",
       "    <tr>\n",
       "      <th>SVM</th>\n",
       "      <td>0.675058</td>\n",
       "      <td>0.851244</td>\n",
       "      <td>0.506624</td>\n",
       "      <td>0.879963</td>\n",
       "    </tr>\n",
       "    <tr>\n",
       "      <th>Logistic</th>\n",
       "      <td>0.865451</td>\n",
       "      <td>0.893750</td>\n",
       "      <td>0.763293</td>\n",
       "      <td>0.886700</td>\n",
       "    </tr>\n",
       "    <tr>\n",
       "      <th>XGBoost</th>\n",
       "      <td>0.891192</td>\n",
       "      <td>0.899197</td>\n",
       "      <td>0.834820</td>\n",
       "      <td>0.886874</td>\n",
       "    </tr>\n",
       "  </tbody>\n",
       "</table>\n",
       "</div>"
      ],
      "text/plain": [
       "          First F1_score  Second F1_score  Third F1_score  Fourth F1_score\n",
       "DT              0.839657         0.858906        0.779910         0.836349\n",
       "KNN             0.788301         0.824046        0.766307         0.788660\n",
       "SVM             0.675058         0.851244        0.506624         0.879963\n",
       "Logistic        0.865451         0.893750        0.763293         0.886700\n",
       "XGBoost         0.891192         0.899197        0.834820         0.886874"
      ]
     },
     "execution_count": 123,
     "metadata": {},
     "output_type": "execute_result"
    }
   ],
   "source": [
    "#comparing f1_scores\n",
    "f16 = f1_score(y_test, y_pred16)\n",
    "f17 = f1_score(y_test, y_pred17)\n",
    "f18 = f1_score(y_test, y_pred18)\n",
    "f19 = f1_score(y_test, y_pred19)\n",
    "f20 = f1_score(y_test, y_pred20)\n",
    "\n",
    "d1 = {'DT': f1, 'KNN': f2, 'SVM': f3, 'Logistic': f4, 'XGBoost': f5}\n",
    "class1 = pd.Series(data=d1, index=['DT', 'KNN', 'SVM', 'Logistic', 'XGBoost'])\n",
    "d2 = {'DT': f6, 'KNN': f7, 'SVM': f8, 'Logistic': f9, 'XGBoost': f10}\n",
    "class2 = pd.Series(data=d2, index=['DT', 'KNN', 'SVM', 'Logistic', 'XGBoost'])\n",
    "d3 = {'DT': f11, 'KNN': f12, 'SVM': f13, 'Logistic': f14, 'XGBoost': f15}\n",
    "class3 = pd.Series(data=d3, index=['DT', 'KNN', 'SVM', 'Logistic', 'XGBoost'])\n",
    "d4 = {'DT': f16, 'KNN': f17, 'SVM': f18, 'Logistic': f19, 'XGBoost': f20}\n",
    "class4 = pd.Series(data=d4, index=['DT', 'KNN', 'SVM', 'Logistic', 'XGBoost'])\n",
    "\n",
    "df_class = pd.DataFrame({'First F1_score':class1, 'Second F1_score':class2,\n",
    "                         'Third F1_score':class3,'Fourth F1_score':class4, })\n",
    "df_class"
   ]
  },
  {
   "cell_type": "markdown",
   "id": "95c53d45",
   "metadata": {},
   "source": [
    "## Ejercicio Extra"
   ]
  },
  {
   "cell_type": "code",
   "execution_count": null,
   "id": "3f9d6270",
   "metadata": {},
   "outputs": [],
   "source": [
    "#precision TP / (TP + FP)\n",
    "p1 = m1[1,1] / (m1[1,1] + m1[0,1])\n",
    "p2 = m2[1,1] / (m2[1,1] + m2[0,1])\n",
    "p3 = m3[1,1] / (m3[1,1] + m3[0,1])\n",
    "p4 = m4[1,1] / (m4[1,1] + m4[0,1])\n",
    "p5 = m5[1,1] / (m5[1,1] + m5[0,1])\n",
    "\n",
    "print('Precision decision tree model:',p1)\n",
    "print('Precision KNN model:',p2)\n",
    "print('Precision SVM model:',p3)\n",
    "print('Precision Logistic model:',p4)\n",
    "print('Precision XGBoost model:',p5)"
   ]
  },
  {
   "cell_type": "code",
   "execution_count": 124,
   "id": "49d68f0d",
   "metadata": {
    "ExecuteTime": {
     "end_time": "2022-03-02T14:47:27.355947Z",
     "start_time": "2022-03-02T14:47:22.459477Z"
    }
   },
   "outputs": [],
   "source": [
    "from imblearn.over_sampling import SMOTE\n",
    "from keras.utils import np_utils\n",
    "X = df_vuelos.drop('Label',axis=1)\n",
    "y = df_vuelos['Label']\n",
    "\n",
    "#test and train\n",
    "X_train, X_test, y_train, y_test = train_test_split(X, y, test_size=0.3, random_state=27)\n",
    "sm = SMOTE(random_state=27)\n",
    "X_train, y_train = sm.fit_resample(X_train, y_train)  ### oju resample"
   ]
  },
  {
   "cell_type": "code",
   "execution_count": 125,
   "id": "251d51ea",
   "metadata": {
    "ExecuteTime": {
     "end_time": "2022-03-02T14:47:34.748420Z",
     "start_time": "2022-03-02T14:47:34.139115Z"
    }
   },
   "outputs": [
    {
     "name": "stdout",
     "output_type": "stream",
     "text": [
      "0.8547914104625863 0.9106467198323535\n"
     ]
    }
   ],
   "source": [
    "smote = LogisticRegression(solver='liblinear').fit(X_train, y_train)\n",
    "smote_pred = smote.predict(X_test)\n",
    "\n",
    "a = metrics.accuracy_score(y_test, smote_pred)\n",
    "b = f1_score(y_test, smote_pred)\n",
    "print(a,b)"
   ]
  },
  {
   "cell_type": "markdown",
   "id": "af122766",
   "metadata": {},
   "source": [
    "El método SMOTE mejoró significativamente el modelo logístico comparando el resultado con algoritmos anteriores. \n",
    "Otro método sería el submuestreo o el sobremuestreo. En este gran conjunto de datos, sería apropiado usar submuestreo, que ya se aplicó en pasos anteriores. \n",
    "SMOTE: generar las muestras sintéticas parece ser la mejor manera de lidiar con un conjunto de datos desequilibrado."
   ]
  },
  {
   "cell_type": "code",
   "execution_count": null,
   "id": "2839631e",
   "metadata": {},
   "outputs": [],
   "source": []
  }
 ],
 "metadata": {
  "kernelspec": {
   "display_name": "Python 3",
   "language": "python",
   "name": "python3"
  },
  "language_info": {
   "codemirror_mode": {
    "name": "ipython",
    "version": 3
   },
   "file_extension": ".py",
   "mimetype": "text/x-python",
   "name": "python",
   "nbconvert_exporter": "python",
   "pygments_lexer": "ipython3",
   "version": "3.8.8"
  }
 },
 "nbformat": 4,
 "nbformat_minor": 5
}
